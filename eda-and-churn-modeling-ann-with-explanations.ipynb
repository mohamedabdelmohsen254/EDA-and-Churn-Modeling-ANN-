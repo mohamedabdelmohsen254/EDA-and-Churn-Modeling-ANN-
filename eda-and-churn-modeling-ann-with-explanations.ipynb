{
 "cells": [
  {
   "cell_type": "markdown",
   "id": "7f1d6720",
   "metadata": {
    "papermill": {
     "duration": 0.03027,
     "end_time": "2022-07-01T06:07:45.584005",
     "exception": false,
     "start_time": "2022-07-01T06:07:45.553735",
     "status": "completed"
    },
    "tags": []
   },
   "source": [
    "## Description"
   ]
  },
  {
   "cell_type": "markdown",
   "id": "d9a6ad27",
   "metadata": {
    "papermill": {
     "duration": 0.021132,
     "end_time": "2022-07-01T06:07:45.627436",
     "exception": false,
     "start_time": "2022-07-01T06:07:45.606304",
     "status": "completed"
    },
    "tags": []
   },
   "source": [
    "The dataset is about information of sample customers of a bank\n",
    "\n",
    "What's the challenge here?\n",
    "\n",
    "Well, the bank has been seeing unusual churn rates (churn is when people leave the company), and they've seen customers leaving at unusually high rates\n",
    "\n",
    "They want to understand what the problem is and they want to assess and address that problem.\n",
    "\n",
    "So what happened in reality is that this bank actually observed their customers for a certain period of time, let's say six months.\n",
    "\n",
    "They observed if during the six months they left the bank or stayed in the bank and they gathered these outcomes in this last dependent variable, and at the same time, you know, they got all these features."
   ]
  },
  {
   "cell_type": "markdown",
   "id": "836ac5f9",
   "metadata": {
    "papermill": {
     "duration": 0.02102,
     "end_time": "2022-07-01T06:07:45.669666",
     "exception": false,
     "start_time": "2022-07-01T06:07:45.648646",
     "status": "completed"
    },
    "tags": []
   },
   "source": [
    "## Gathering"
   ]
  },
  {
   "cell_type": "markdown",
   "id": "b6b345c8",
   "metadata": {
    "papermill": {
     "duration": 0.022586,
     "end_time": "2022-07-01T06:07:45.714163",
     "exception": false,
     "start_time": "2022-07-01T06:07:45.691577",
     "status": "completed"
    },
    "tags": []
   },
   "source": [
    "**The features in the given dataset are:**\n",
    "\n",
    "- rownumber: Row Numbers from 1 to 10000.\n",
    "\n",
    "- customerid: A unique ID that identifies each customer.\n",
    "\n",
    "- surname: The customer’s surname.\n",
    "\n",
    "- creditscore: A credit score is a number between 300–850 that depicts a consumer's creditworthiness.\n",
    "\n",
    "- geography: The country from which the customer belongs to.\n",
    "\n",
    "- Gender: The customer’s gender: Male, Female\n",
    "\n",
    "- Age: The customer’s current age, in years, at the time of being customer.\n",
    "\n",
    "- tenure: The number of years for which the customer has been with the bank.\n",
    "\n",
    "- balance: Bank balance of the customer.\n",
    "\n",
    "- numofproducts: the number of bank products the customer is utilising.\n",
    "\n",
    "- h0ascrcard: The number of credit cards given to the customer by the bank.\n",
    "\n",
    "- isactivemember: Binary Flag for indicating if the client is active or not with the bank before the moment where the client exits the company (recorded in the variable \"exited\")\n",
    "\n",
    "- exited: Binary flag 1 if the customer closed account with bank and 0 if the customer is retained."
   ]
  },
  {
   "cell_type": "code",
   "execution_count": 1,
   "id": "bd80f501",
   "metadata": {
    "execution": {
     "iopub.execute_input": "2022-07-01T06:07:45.762819Z",
     "iopub.status.busy": "2022-07-01T06:07:45.762057Z",
     "iopub.status.idle": "2022-07-01T06:07:55.686702Z",
     "shell.execute_reply": "2022-07-01T06:07:55.685251Z"
    },
    "papermill": {
     "duration": 9.953008,
     "end_time": "2022-07-01T06:07:55.689804",
     "exception": false,
     "start_time": "2022-07-01T06:07:45.736796",
     "status": "completed"
    },
    "tags": []
   },
   "outputs": [],
   "source": [
    "import pandas as pd\n",
    "import numpy as np\n",
    "import matplotlib.pyplot as plt \n",
    "import seaborn as sns\n",
    "\n",
    "#Data preprocessing\n",
    "from sklearn.preprocessing import LabelEncoder\n",
    "from sklearn.model_selection import train_test_split\n",
    "from sklearn.preprocessing import StandardScaler\n",
    "\n",
    "#For modeling\n",
    "import tensorflow as tf\n",
    "from sklearn.metrics import confusion_matrix, accuracy_score\n",
    "\n",
    "\n",
    "\n",
    "df=pd.read_csv(\"../input/churn-modelling/Churn_Modelling.csv\")\n"
   ]
  },
  {
   "cell_type": "code",
   "execution_count": 2,
   "id": "057904a9",
   "metadata": {
    "execution": {
     "iopub.execute_input": "2022-07-01T06:07:55.735271Z",
     "iopub.status.busy": "2022-07-01T06:07:55.734646Z",
     "iopub.status.idle": "2022-07-01T06:07:55.743482Z",
     "shell.execute_reply": "2022-07-01T06:07:55.742396Z"
    },
    "papermill": {
     "duration": 0.034161,
     "end_time": "2022-07-01T06:07:55.745817",
     "exception": false,
     "start_time": "2022-07-01T06:07:55.711656",
     "status": "completed"
    },
    "tags": []
   },
   "outputs": [
    {
     "data": {
      "text/plain": [
       "'2.6.4'"
      ]
     },
     "execution_count": 2,
     "metadata": {},
     "output_type": "execute_result"
    }
   ],
   "source": [
    "tf.__version__"
   ]
  },
  {
   "cell_type": "code",
   "execution_count": 3,
   "id": "200d1170",
   "metadata": {
    "execution": {
     "iopub.execute_input": "2022-07-01T06:07:55.791013Z",
     "iopub.status.busy": "2022-07-01T06:07:55.790389Z",
     "iopub.status.idle": "2022-07-01T06:07:55.814250Z",
     "shell.execute_reply": "2022-07-01T06:07:55.813027Z"
    },
    "papermill": {
     "duration": 0.048939,
     "end_time": "2022-07-01T06:07:55.816402",
     "exception": false,
     "start_time": "2022-07-01T06:07:55.767463",
     "status": "completed"
    },
    "scrolled": true,
    "tags": []
   },
   "outputs": [
    {
     "data": {
      "text/html": [
       "<div>\n",
       "<style scoped>\n",
       "    .dataframe tbody tr th:only-of-type {\n",
       "        vertical-align: middle;\n",
       "    }\n",
       "\n",
       "    .dataframe tbody tr th {\n",
       "        vertical-align: top;\n",
       "    }\n",
       "\n",
       "    .dataframe thead th {\n",
       "        text-align: right;\n",
       "    }\n",
       "</style>\n",
       "<table border=\"1\" class=\"dataframe\">\n",
       "  <thead>\n",
       "    <tr style=\"text-align: right;\">\n",
       "      <th></th>\n",
       "      <th>RowNumber</th>\n",
       "      <th>CustomerId</th>\n",
       "      <th>Surname</th>\n",
       "      <th>CreditScore</th>\n",
       "      <th>Geography</th>\n",
       "      <th>Gender</th>\n",
       "      <th>Age</th>\n",
       "      <th>Tenure</th>\n",
       "      <th>Balance</th>\n",
       "      <th>NumOfProducts</th>\n",
       "      <th>HasCrCard</th>\n",
       "      <th>IsActiveMember</th>\n",
       "      <th>EstimatedSalary</th>\n",
       "      <th>Exited</th>\n",
       "    </tr>\n",
       "  </thead>\n",
       "  <tbody>\n",
       "    <tr>\n",
       "      <th>0</th>\n",
       "      <td>1</td>\n",
       "      <td>15634602</td>\n",
       "      <td>Hargrave</td>\n",
       "      <td>619</td>\n",
       "      <td>France</td>\n",
       "      <td>Female</td>\n",
       "      <td>42</td>\n",
       "      <td>2</td>\n",
       "      <td>0.00</td>\n",
       "      <td>1</td>\n",
       "      <td>1</td>\n",
       "      <td>1</td>\n",
       "      <td>101348.88</td>\n",
       "      <td>1</td>\n",
       "    </tr>\n",
       "    <tr>\n",
       "      <th>1</th>\n",
       "      <td>2</td>\n",
       "      <td>15647311</td>\n",
       "      <td>Hill</td>\n",
       "      <td>608</td>\n",
       "      <td>Spain</td>\n",
       "      <td>Female</td>\n",
       "      <td>41</td>\n",
       "      <td>1</td>\n",
       "      <td>83807.86</td>\n",
       "      <td>1</td>\n",
       "      <td>0</td>\n",
       "      <td>1</td>\n",
       "      <td>112542.58</td>\n",
       "      <td>0</td>\n",
       "    </tr>\n",
       "    <tr>\n",
       "      <th>2</th>\n",
       "      <td>3</td>\n",
       "      <td>15619304</td>\n",
       "      <td>Onio</td>\n",
       "      <td>502</td>\n",
       "      <td>France</td>\n",
       "      <td>Female</td>\n",
       "      <td>42</td>\n",
       "      <td>8</td>\n",
       "      <td>159660.80</td>\n",
       "      <td>3</td>\n",
       "      <td>1</td>\n",
       "      <td>0</td>\n",
       "      <td>113931.57</td>\n",
       "      <td>1</td>\n",
       "    </tr>\n",
       "    <tr>\n",
       "      <th>3</th>\n",
       "      <td>4</td>\n",
       "      <td>15701354</td>\n",
       "      <td>Boni</td>\n",
       "      <td>699</td>\n",
       "      <td>France</td>\n",
       "      <td>Female</td>\n",
       "      <td>39</td>\n",
       "      <td>1</td>\n",
       "      <td>0.00</td>\n",
       "      <td>2</td>\n",
       "      <td>0</td>\n",
       "      <td>0</td>\n",
       "      <td>93826.63</td>\n",
       "      <td>0</td>\n",
       "    </tr>\n",
       "    <tr>\n",
       "      <th>4</th>\n",
       "      <td>5</td>\n",
       "      <td>15737888</td>\n",
       "      <td>Mitchell</td>\n",
       "      <td>850</td>\n",
       "      <td>Spain</td>\n",
       "      <td>Female</td>\n",
       "      <td>43</td>\n",
       "      <td>2</td>\n",
       "      <td>125510.82</td>\n",
       "      <td>1</td>\n",
       "      <td>1</td>\n",
       "      <td>1</td>\n",
       "      <td>79084.10</td>\n",
       "      <td>0</td>\n",
       "    </tr>\n",
       "  </tbody>\n",
       "</table>\n",
       "</div>"
      ],
      "text/plain": [
       "   RowNumber  CustomerId   Surname  CreditScore Geography  Gender  Age  \\\n",
       "0          1    15634602  Hargrave          619    France  Female   42   \n",
       "1          2    15647311      Hill          608     Spain  Female   41   \n",
       "2          3    15619304      Onio          502    France  Female   42   \n",
       "3          4    15701354      Boni          699    France  Female   39   \n",
       "4          5    15737888  Mitchell          850     Spain  Female   43   \n",
       "\n",
       "   Tenure    Balance  NumOfProducts  HasCrCard  IsActiveMember  \\\n",
       "0       2       0.00              1          1               1   \n",
       "1       1   83807.86              1          0               1   \n",
       "2       8  159660.80              3          1               0   \n",
       "3       1       0.00              2          0               0   \n",
       "4       2  125510.82              1          1               1   \n",
       "\n",
       "   EstimatedSalary  Exited  \n",
       "0        101348.88       1  \n",
       "1        112542.58       0  \n",
       "2        113931.57       1  \n",
       "3         93826.63       0  \n",
       "4         79084.10       0  "
      ]
     },
     "execution_count": 3,
     "metadata": {},
     "output_type": "execute_result"
    }
   ],
   "source": [
    "df.head()"
   ]
  },
  {
   "cell_type": "code",
   "execution_count": 4,
   "id": "748ac1f8",
   "metadata": {
    "execution": {
     "iopub.execute_input": "2022-07-01T06:07:55.861938Z",
     "iopub.status.busy": "2022-07-01T06:07:55.861566Z",
     "iopub.status.idle": "2022-07-01T06:07:55.868474Z",
     "shell.execute_reply": "2022-07-01T06:07:55.867308Z"
    },
    "papermill": {
     "duration": 0.032277,
     "end_time": "2022-07-01T06:07:55.870747",
     "exception": false,
     "start_time": "2022-07-01T06:07:55.838470",
     "status": "completed"
    },
    "tags": []
   },
   "outputs": [
    {
     "data": {
      "text/plain": [
       "(10000, 14)"
      ]
     },
     "execution_count": 4,
     "metadata": {},
     "output_type": "execute_result"
    }
   ],
   "source": [
    "df.shape"
   ]
  },
  {
   "cell_type": "markdown",
   "id": "756c2b48",
   "metadata": {
    "papermill": {
     "duration": 0.021527,
     "end_time": "2022-07-01T06:07:55.914584",
     "exception": false,
     "start_time": "2022-07-01T06:07:55.893057",
     "status": "completed"
    },
    "tags": []
   },
   "source": [
    "## Exploratory Data Analysis"
   ]
  },
  {
   "cell_type": "code",
   "execution_count": 5,
   "id": "25da584c",
   "metadata": {
    "execution": {
     "iopub.execute_input": "2022-07-01T06:07:55.960299Z",
     "iopub.status.busy": "2022-07-01T06:07:55.959656Z",
     "iopub.status.idle": "2022-07-01T06:07:55.988904Z",
     "shell.execute_reply": "2022-07-01T06:07:55.987769Z"
    },
    "papermill": {
     "duration": 0.055493,
     "end_time": "2022-07-01T06:07:55.991932",
     "exception": false,
     "start_time": "2022-07-01T06:07:55.936439",
     "status": "completed"
    },
    "tags": []
   },
   "outputs": [
    {
     "name": "stdout",
     "output_type": "stream",
     "text": [
      "<class 'pandas.core.frame.DataFrame'>\n",
      "RangeIndex: 10000 entries, 0 to 9999\n",
      "Data columns (total 14 columns):\n",
      " #   Column           Non-Null Count  Dtype  \n",
      "---  ------           --------------  -----  \n",
      " 0   RowNumber        10000 non-null  int64  \n",
      " 1   CustomerId       10000 non-null  int64  \n",
      " 2   Surname          10000 non-null  object \n",
      " 3   CreditScore      10000 non-null  int64  \n",
      " 4   Geography        10000 non-null  object \n",
      " 5   Gender           10000 non-null  object \n",
      " 6   Age              10000 non-null  int64  \n",
      " 7   Tenure           10000 non-null  int64  \n",
      " 8   Balance          10000 non-null  float64\n",
      " 9   NumOfProducts    10000 non-null  int64  \n",
      " 10  HasCrCard        10000 non-null  int64  \n",
      " 11  IsActiveMember   10000 non-null  int64  \n",
      " 12  EstimatedSalary  10000 non-null  float64\n",
      " 13  Exited           10000 non-null  int64  \n",
      "dtypes: float64(2), int64(9), object(3)\n",
      "memory usage: 1.1+ MB\n"
     ]
    }
   ],
   "source": [
    "df.info()"
   ]
  },
  {
   "cell_type": "code",
   "execution_count": 6,
   "id": "f1a7893a",
   "metadata": {
    "execution": {
     "iopub.execute_input": "2022-07-01T06:07:56.039126Z",
     "iopub.status.busy": "2022-07-01T06:07:56.038447Z",
     "iopub.status.idle": "2022-07-01T06:07:56.050672Z",
     "shell.execute_reply": "2022-07-01T06:07:56.049587Z"
    },
    "papermill": {
     "duration": 0.038625,
     "end_time": "2022-07-01T06:07:56.053403",
     "exception": false,
     "start_time": "2022-07-01T06:07:56.014778",
     "status": "completed"
    },
    "tags": []
   },
   "outputs": [
    {
     "data": {
      "text/plain": [
       "RowNumber          0\n",
       "CustomerId         0\n",
       "Surname            0\n",
       "CreditScore        0\n",
       "Geography          0\n",
       "Gender             0\n",
       "Age                0\n",
       "Tenure             0\n",
       "Balance            0\n",
       "NumOfProducts      0\n",
       "HasCrCard          0\n",
       "IsActiveMember     0\n",
       "EstimatedSalary    0\n",
       "Exited             0\n",
       "dtype: int64"
      ]
     },
     "execution_count": 6,
     "metadata": {},
     "output_type": "execute_result"
    }
   ],
   "source": [
    "#Does the dataset contains null values?\n",
    "df.isnull().sum()"
   ]
  },
  {
   "cell_type": "code",
   "execution_count": 7,
   "id": "f809cf0f",
   "metadata": {
    "execution": {
     "iopub.execute_input": "2022-07-01T06:07:56.100106Z",
     "iopub.status.busy": "2022-07-01T06:07:56.099749Z",
     "iopub.status.idle": "2022-07-01T06:07:56.116347Z",
     "shell.execute_reply": "2022-07-01T06:07:56.115119Z"
    },
    "papermill": {
     "duration": 0.042386,
     "end_time": "2022-07-01T06:07:56.118605",
     "exception": false,
     "start_time": "2022-07-01T06:07:56.076219",
     "status": "completed"
    },
    "tags": []
   },
   "outputs": [
    {
     "data": {
      "text/plain": [
       "0"
      ]
     },
     "execution_count": 7,
     "metadata": {},
     "output_type": "execute_result"
    }
   ],
   "source": [
    "#Does the dataset contains duplicated values?\n",
    "df.duplicated().sum()"
   ]
  },
  {
   "cell_type": "code",
   "execution_count": 8,
   "id": "68a02ead",
   "metadata": {
    "execution": {
     "iopub.execute_input": "2022-07-01T06:07:56.166092Z",
     "iopub.status.busy": "2022-07-01T06:07:56.165409Z",
     "iopub.status.idle": "2022-07-01T06:07:56.172690Z",
     "shell.execute_reply": "2022-07-01T06:07:56.171685Z"
    },
    "papermill": {
     "duration": 0.033882,
     "end_time": "2022-07-01T06:07:56.174952",
     "exception": false,
     "start_time": "2022-07-01T06:07:56.141070",
     "status": "completed"
    },
    "tags": []
   },
   "outputs": [],
   "source": [
    "#Dropping first 3 columns becaues they will not be useful in either analysis or modeling\n",
    "df.drop(['RowNumber','CustomerId','Surname'],axis=1, inplace=True)"
   ]
  },
  {
   "cell_type": "code",
   "execution_count": 9,
   "id": "dfa3cfa2",
   "metadata": {
    "execution": {
     "iopub.execute_input": "2022-07-01T06:07:56.222446Z",
     "iopub.status.busy": "2022-07-01T06:07:56.222067Z",
     "iopub.status.idle": "2022-07-01T06:07:56.385381Z",
     "shell.execute_reply": "2022-07-01T06:07:56.384135Z"
    },
    "papermill": {
     "duration": 0.19075,
     "end_time": "2022-07-01T06:07:56.388824",
     "exception": false,
     "start_time": "2022-07-01T06:07:56.198074",
     "status": "completed"
    },
    "tags": []
   },
   "outputs": [
    {
     "data": {
      "text/plain": [
       "France     5014\n",
       "Germany    2509\n",
       "Spain      2477\n",
       "Name: Geography, dtype: int64"
      ]
     },
     "execution_count": 9,
     "metadata": {},
     "output_type": "execute_result"
    },
    {
     "data": {
      "image/png": "[encoded data removed]",
      "text/plain": [
       "<Figure size 432x288 with 1 Axes>"
      ]
     },
     "metadata": {
      "needs_background": "light"
     },
     "output_type": "display_data"
    }
   ],
   "source": [
    "df.Geography.value_counts().plot(kind='barh');\n",
    "df.Geography.value_counts()"
   ]
  },
  {
   "cell_type": "markdown",
   "id": "198ef376",
   "metadata": {
    "papermill": {
     "duration": 0.022758,
     "end_time": "2022-07-01T06:07:56.438723",
     "exception": false,
     "start_time": "2022-07-01T06:07:56.415965",
     "status": "completed"
    },
    "tags": []
   },
   "source": [
    "Most of the bank customers are from france"
   ]
  },
  {
   "cell_type": "code",
   "execution_count": 10,
   "id": "a0bc144a",
   "metadata": {
    "execution": {
     "iopub.execute_input": "2022-07-01T06:07:56.485913Z",
     "iopub.status.busy": "2022-07-01T06:07:56.485516Z",
     "iopub.status.idle": "2022-07-01T06:07:56.650758Z",
     "shell.execute_reply": "2022-07-01T06:07:56.649620Z"
    },
    "papermill": {
     "duration": 0.191769,
     "end_time": "2022-07-01T06:07:56.653365",
     "exception": false,
     "start_time": "2022-07-01T06:07:56.461596",
     "status": "completed"
    },
    "tags": []
   },
   "outputs": [
    {
     "data": {
      "text/plain": [
       "Male      5457\n",
       "Female    4543\n",
       "Name: Gender, dtype: int64"
      ]
     },
     "execution_count": 10,
     "metadata": {},
     "output_type": "execute_result"
    },
    {
     "data": {
      "image/png": "[encoded data removed]",
      "text/plain": [
       "<Figure size 432x288 with 1 Axes>"
      ]
     },
     "metadata": {
      "needs_background": "light"
     },
     "output_type": "display_data"
    }
   ],
   "source": [
    "df.Gender.value_counts().plot(kind='barh');\n",
    "df.Gender.value_counts()"
   ]
  },
  {
   "cell_type": "markdown",
   "id": "4c1e6cdd",
   "metadata": {
    "papermill": {
     "duration": 0.022895,
     "end_time": "2022-07-01T06:07:56.699280",
     "exception": false,
     "start_time": "2022-07-01T06:07:56.676385",
     "status": "completed"
    },
    "tags": []
   },
   "source": [
    "Number of Males customers are higher than that of Females  "
   ]
  },
  {
   "cell_type": "code",
   "execution_count": 11,
   "id": "23983c38",
   "metadata": {
    "execution": {
     "iopub.execute_input": "2022-07-01T06:07:56.747697Z",
     "iopub.status.busy": "2022-07-01T06:07:56.746676Z",
     "iopub.status.idle": "2022-07-01T06:07:56.759708Z",
     "shell.execute_reply": "2022-07-01T06:07:56.758617Z"
    },
    "papermill": {
     "duration": 0.040131,
     "end_time": "2022-07-01T06:07:56.762604",
     "exception": false,
     "start_time": "2022-07-01T06:07:56.722473",
     "status": "completed"
    },
    "tags": []
   },
   "outputs": [
    {
     "data": {
      "text/plain": [
       "count    10000.000000\n",
       "mean        38.921800\n",
       "std         10.487806\n",
       "min         18.000000\n",
       "25%         32.000000\n",
       "50%         37.000000\n",
       "75%         44.000000\n",
       "max         92.000000\n",
       "Name: Age, dtype: float64"
      ]
     },
     "execution_count": 11,
     "metadata": {},
     "output_type": "execute_result"
    }
   ],
   "source": [
    "df.Age.describe()"
   ]
  },
  {
   "cell_type": "code",
   "execution_count": 12,
   "id": "ff4993e9",
   "metadata": {
    "execution": {
     "iopub.execute_input": "2022-07-01T06:07:56.810933Z",
     "iopub.status.busy": "2022-07-01T06:07:56.810555Z",
     "iopub.status.idle": "2022-07-01T06:07:57.017225Z",
     "shell.execute_reply": "2022-07-01T06:07:57.016075Z"
    },
    "papermill": {
     "duration": 0.233909,
     "end_time": "2022-07-01T06:07:57.019605",
     "exception": false,
     "start_time": "2022-07-01T06:07:56.785696",
     "status": "completed"
    },
    "tags": []
   },
   "outputs": [
    {
     "data": {
      "image/png": "[encoded data removed]",
      "text/plain": [
       "<Figure size 432x288 with 1 Axes>"
      ]
     },
     "metadata": {
      "needs_background": "light"
     },
     "output_type": "display_data"
    }
   ],
   "source": [
    "df.Age.plot(kind='hist');"
   ]
  },
  {
   "cell_type": "code",
   "execution_count": 13,
   "id": "f7e962b2",
   "metadata": {
    "execution": {
     "iopub.execute_input": "2022-07-01T06:07:57.068552Z",
     "iopub.status.busy": "2022-07-01T06:07:57.068145Z",
     "iopub.status.idle": "2022-07-01T06:07:57.186891Z",
     "shell.execute_reply": "2022-07-01T06:07:57.185757Z"
    },
    "papermill": {
     "duration": 0.146324,
     "end_time": "2022-07-01T06:07:57.189345",
     "exception": false,
     "start_time": "2022-07-01T06:07:57.043021",
     "status": "completed"
    },
    "tags": []
   },
   "outputs": [
    {
     "data": {
      "text/plain": [
       "1    5151\n",
       "0    4849\n",
       "Name: IsActiveMember, dtype: int64"
      ]
     },
     "execution_count": 13,
     "metadata": {},
     "output_type": "execute_result"
    },
    {
     "data": {
      "image/png": "[encoded data removed]",
      "text/plain": [
       "<Figure size 432x288 with 1 Axes>"
      ]
     },
     "metadata": {
      "needs_background": "light"
     },
     "output_type": "display_data"
    }
   ],
   "source": [
    "df.IsActiveMember.value_counts().plot(kind='barh');\n",
    "df.IsActiveMember.value_counts()"
   ]
  },
  {
   "cell_type": "markdown",
   "id": "2ad96a12",
   "metadata": {
    "papermill": {
     "duration": 0.024326,
     "end_time": "2022-07-01T06:07:57.237879",
     "exception": false,
     "start_time": "2022-07-01T06:07:57.213553",
     "status": "completed"
    },
    "tags": []
   },
   "source": [
    "Number of Active members is close to the number of inActive members"
   ]
  },
  {
   "cell_type": "code",
   "execution_count": 14,
   "id": "e7a9b7cd",
   "metadata": {
    "execution": {
     "iopub.execute_input": "2022-07-01T06:07:57.288310Z",
     "iopub.status.busy": "2022-07-01T06:07:57.287534Z",
     "iopub.status.idle": "2022-07-01T06:07:57.403855Z",
     "shell.execute_reply": "2022-07-01T06:07:57.403021Z"
    },
    "papermill": {
     "duration": 0.144314,
     "end_time": "2022-07-01T06:07:57.406200",
     "exception": false,
     "start_time": "2022-07-01T06:07:57.261886",
     "status": "completed"
    },
    "tags": []
   },
   "outputs": [
    {
     "data": {
      "text/plain": [
       "1    7055\n",
       "0    2945\n",
       "Name: HasCrCard, dtype: int64"
      ]
     },
     "execution_count": 14,
     "metadata": {},
     "output_type": "execute_result"
    },
    {
     "data": {
      "image/png": "[encoded data removed]",
      "text/plain": [
       "<Figure size 432x288 with 1 Axes>"
      ]
     },
     "metadata": {
      "needs_background": "light"
     },
     "output_type": "display_data"
    }
   ],
   "source": [
    "df.HasCrCard.value_counts().plot(kind='barh');\n",
    "df.HasCrCard.value_counts()"
   ]
  },
  {
   "cell_type": "markdown",
   "id": "6c367bda",
   "metadata": {
    "papermill": {
     "duration": 0.02377,
     "end_time": "2022-07-01T06:07:57.454419",
     "exception": false,
     "start_time": "2022-07-01T06:07:57.430649",
     "status": "completed"
    },
    "tags": []
   },
   "source": [
    "Most of the bank customers have a credit card"
   ]
  },
  {
   "cell_type": "code",
   "execution_count": 15,
   "id": "141a21a3",
   "metadata": {
    "execution": {
     "iopub.execute_input": "2022-07-01T06:07:57.505357Z",
     "iopub.status.busy": "2022-07-01T06:07:57.504570Z",
     "iopub.status.idle": "2022-07-01T06:07:57.654064Z",
     "shell.execute_reply": "2022-07-01T06:07:57.653252Z"
    },
    "papermill": {
     "duration": 0.177436,
     "end_time": "2022-07-01T06:07:57.656471",
     "exception": false,
     "start_time": "2022-07-01T06:07:57.479035",
     "status": "completed"
    },
    "tags": []
   },
   "outputs": [
    {
     "data": {
      "text/plain": [
       "2     1048\n",
       "1     1035\n",
       "7     1028\n",
       "8     1025\n",
       "5     1012\n",
       "3     1009\n",
       "4      989\n",
       "9      984\n",
       "6      967\n",
       "10     490\n",
       "0      413\n",
       "Name: Tenure, dtype: int64"
      ]
     },
     "execution_count": 15,
     "metadata": {},
     "output_type": "execute_result"
    },
    {
     "data": {
      "image/png": "[encoded data removed]",
      "text/plain": [
       "<Figure size 432x288 with 1 Axes>"
      ]
     },
     "metadata": {
      "needs_background": "light"
     },
     "output_type": "display_data"
    }
   ],
   "source": [
    "df.Tenure.value_counts().sort_values(ascending=False).plot(kind='barh');\n",
    "df.Tenure.value_counts()"
   ]
  },
  {
   "cell_type": "markdown",
   "id": "63e73322",
   "metadata": {
    "papermill": {
     "duration": 0.024456,
     "end_time": "2022-07-01T06:07:57.705480",
     "exception": false,
     "start_time": "2022-07-01T06:07:57.681024",
     "status": "completed"
    },
    "tags": []
   },
   "source": [
    "Tenure is the number of years the customer deal with the bank and 2 years in the most and 0 years then 10 years is the least"
   ]
  },
  {
   "cell_type": "code",
   "execution_count": 16,
   "id": "edbccc94",
   "metadata": {
    "execution": {
     "iopub.execute_input": "2022-07-01T06:07:57.757127Z",
     "iopub.status.busy": "2022-07-01T06:07:57.756298Z",
     "iopub.status.idle": "2022-07-01T06:07:57.878007Z",
     "shell.execute_reply": "2022-07-01T06:07:57.877123Z"
    },
    "papermill": {
     "duration": 0.150214,
     "end_time": "2022-07-01T06:07:57.880534",
     "exception": false,
     "start_time": "2022-07-01T06:07:57.730320",
     "status": "completed"
    },
    "tags": []
   },
   "outputs": [
    {
     "data": {
      "text/plain": [
       "1    5084\n",
       "2    4590\n",
       "3     266\n",
       "4      60\n",
       "Name: NumOfProducts, dtype: int64"
      ]
     },
     "execution_count": 16,
     "metadata": {},
     "output_type": "execute_result"
    },
    {
     "data": {
      "image/png": "[encoded data removed]",
      "text/plain": [
       "<Figure size 432x288 with 1 Axes>"
      ]
     },
     "metadata": {
      "needs_background": "light"
     },
     "output_type": "display_data"
    }
   ],
   "source": [
    "df.NumOfProducts.value_counts().sort_values(ascending=False).plot(kind='barh');\n",
    "df.NumOfProducts.value_counts()"
   ]
  },
  {
   "cell_type": "markdown",
   "id": "d77a4630",
   "metadata": {
    "papermill": {
     "duration": 0.025395,
     "end_time": "2022-07-01T06:07:57.931296",
     "exception": false,
     "start_time": "2022-07-01T06:07:57.905901",
     "status": "completed"
    },
    "tags": []
   },
   "source": [
    "Most of the customers use from 1 to 2 products from the bank"
   ]
  },
  {
   "cell_type": "code",
   "execution_count": 17,
   "id": "dbb82daa",
   "metadata": {
    "execution": {
     "iopub.execute_input": "2022-07-01T06:07:57.983050Z",
     "iopub.status.busy": "2022-07-01T06:07:57.982281Z",
     "iopub.status.idle": "2022-07-01T06:07:58.104257Z",
     "shell.execute_reply": "2022-07-01T06:07:58.103124Z"
    },
    "papermill": {
     "duration": 0.150628,
     "end_time": "2022-07-01T06:07:58.106674",
     "exception": false,
     "start_time": "2022-07-01T06:07:57.956046",
     "status": "completed"
    },
    "tags": []
   },
   "outputs": [
    {
     "data": {
      "text/plain": [
       "0    7963\n",
       "1    2037\n",
       "Name: Exited, dtype: int64"
      ]
     },
     "execution_count": 17,
     "metadata": {},
     "output_type": "execute_result"
    },
    {
     "data": {
      "image/png": "[encoded data removed]",
      "text/plain": [
       "<Figure size 432x288 with 1 Axes>"
      ]
     },
     "metadata": {
      "needs_background": "light"
     },
     "output_type": "display_data"
    }
   ],
   "source": [
    "df.Exited.value_counts().sort_values(ascending=False).plot(kind='barh');\n",
    "df.Exited.value_counts()"
   ]
  },
  {
   "cell_type": "markdown",
   "id": "373db2f8",
   "metadata": {
    "papermill": {
     "duration": 0.024903,
     "end_time": "2022-07-01T06:07:58.156862",
     "exception": false,
     "start_time": "2022-07-01T06:07:58.131959",
     "status": "completed"
    },
    "tags": []
   },
   "source": [
    "Most of the customers didn't exit from the bank but there are more than 2000 customers exit the bank "
   ]
  },
  {
   "cell_type": "code",
   "execution_count": 18,
   "id": "126dc630",
   "metadata": {
    "execution": {
     "iopub.execute_input": "2022-07-01T06:07:58.209499Z",
     "iopub.status.busy": "2022-07-01T06:07:58.208747Z",
     "iopub.status.idle": "2022-07-01T06:07:58.345977Z",
     "shell.execute_reply": "2022-07-01T06:07:58.345182Z"
    },
    "papermill": {
     "duration": 0.166581,
     "end_time": "2022-07-01T06:07:58.348568",
     "exception": false,
     "start_time": "2022-07-01T06:07:58.181987",
     "status": "completed"
    },
    "tags": []
   },
   "outputs": [
    {
     "data": {
      "text/plain": [
       "<AxesSubplot:xlabel='Exited', ylabel='count'>"
      ]
     },
     "execution_count": 18,
     "metadata": {},
     "output_type": "execute_result"
    },
    {
     "data": {
      "image/png": "[encoded data removed]",
      "text/plain": [
       "<Figure size 432x288 with 1 Axes>"
      ]
     },
     "metadata": {
      "needs_background": "light"
     },
     "output_type": "display_data"
    }
   ],
   "source": [
    "sns.countplot(x=df.Exited, hue=df.Gender)"
   ]
  },
  {
   "cell_type": "markdown",
   "id": "d92d3770",
   "metadata": {
    "papermill": {
     "duration": 0.025303,
     "end_time": "2022-07-01T06:07:58.399925",
     "exception": false,
     "start_time": "2022-07-01T06:07:58.374622",
     "status": "completed"
    },
    "tags": []
   },
   "source": [
    "The churn rate of Females is higher than that of Males"
   ]
  },
  {
   "cell_type": "code",
   "execution_count": 19,
   "id": "e36542d8",
   "metadata": {
    "execution": {
     "iopub.execute_input": "2022-07-01T06:07:58.453056Z",
     "iopub.status.busy": "2022-07-01T06:07:58.452303Z",
     "iopub.status.idle": "2022-07-01T06:07:58.660860Z",
     "shell.execute_reply": "2022-07-01T06:07:58.659722Z"
    },
    "papermill": {
     "duration": 0.237702,
     "end_time": "2022-07-01T06:07:58.663161",
     "exception": false,
     "start_time": "2022-07-01T06:07:58.425459",
     "status": "completed"
    },
    "tags": []
   },
   "outputs": [
    {
     "data": {
      "text/plain": [
       "<AxesSubplot:xlabel='Exited', ylabel='count'>"
      ]
     },
     "execution_count": 19,
     "metadata": {},
     "output_type": "execute_result"
    },
    {
     "data": {
      "image/png": "[encoded data removed]",
      "text/plain": [
       "<Figure size 432x288 with 1 Axes>"
      ]
     },
     "metadata": {
      "needs_background": "light"
     },
     "output_type": "display_data"
    }
   ],
   "source": [
    "sns.countplot(x=df.Exited, hue=df.Geography)"
   ]
  },
  {
   "cell_type": "markdown",
   "id": "06f5d3fb",
   "metadata": {
    "papermill": {
     "duration": 0.025543,
     "end_time": "2022-07-01T06:07:58.714567",
     "exception": false,
     "start_time": "2022-07-01T06:07:58.689024",
     "status": "completed"
    },
    "tags": []
   },
   "source": [
    "Number of customers who leaves the bank in France and Germany are nearly equal and Spain is the least one "
   ]
  },
  {
   "cell_type": "code",
   "execution_count": 20,
   "id": "b6b18074",
   "metadata": {
    "execution": {
     "iopub.execute_input": "2022-07-01T06:07:58.774919Z",
     "iopub.status.busy": "2022-07-01T06:07:58.774444Z",
     "iopub.status.idle": "2022-07-01T06:07:59.000252Z",
     "shell.execute_reply": "2022-07-01T06:07:58.999291Z"
    },
    "papermill": {
     "duration": 0.261917,
     "end_time": "2022-07-01T06:07:59.002739",
     "exception": false,
     "start_time": "2022-07-01T06:07:58.740822",
     "status": "completed"
    },
    "tags": []
   },
   "outputs": [
    {
     "data": {
      "image/png": "[encoded data removed]",
      "text/plain": [
       "<Figure size 432x288 with 1 Axes>"
      ]
     },
     "metadata": {
      "needs_background": "light"
     },
     "output_type": "display_data"
    }
   ],
   "source": [
    "sns.countplot(x=df.Exited, hue=df.NumOfProducts);"
   ]
  },
  {
   "cell_type": "markdown",
   "id": "5e863486",
   "metadata": {
    "papermill": {
     "duration": 0.025647,
     "end_time": "2022-07-01T06:07:59.055169",
     "exception": false,
     "start_time": "2022-07-01T06:07:59.029522",
     "status": "completed"
    },
    "tags": []
   },
   "source": [
    "We can say that Customers who use more than 2 products from the bank are less probable to leave it"
   ]
  },
  {
   "cell_type": "code",
   "execution_count": 21,
   "id": "71359598",
   "metadata": {
    "execution": {
     "iopub.execute_input": "2022-07-01T06:07:59.109831Z",
     "iopub.status.busy": "2022-07-01T06:07:59.108725Z",
     "iopub.status.idle": "2022-07-01T06:07:59.231675Z",
     "shell.execute_reply": "2022-07-01T06:07:59.230578Z"
    },
    "papermill": {
     "duration": 0.153687,
     "end_time": "2022-07-01T06:07:59.235057",
     "exception": false,
     "start_time": "2022-07-01T06:07:59.081370",
     "status": "completed"
    },
    "tags": []
   },
   "outputs": [
    {
     "data": {
      "image/png": "[encoded data removed]",
      "text/plain": [
       "<Figure size 432x288 with 1 Axes>"
      ]
     },
     "metadata": {
      "needs_background": "light"
     },
     "output_type": "display_data"
    }
   ],
   "source": [
    "sns.countplot(x=df.Exited, hue=df.IsActiveMember);"
   ]
  },
  {
   "cell_type": "markdown",
   "id": "3f393282",
   "metadata": {
    "papermill": {
     "duration": 0.026496,
     "end_time": "2022-07-01T06:07:59.302040",
     "exception": false,
     "start_time": "2022-07-01T06:07:59.275544",
     "status": "completed"
    },
    "tags": []
   },
   "source": [
    "Most of the customers who leave the bank are inactive members"
   ]
  },
  {
   "cell_type": "code",
   "execution_count": 22,
   "id": "26451939",
   "metadata": {
    "execution": {
     "iopub.execute_input": "2022-07-01T06:07:59.356272Z",
     "iopub.status.busy": "2022-07-01T06:07:59.355267Z",
     "iopub.status.idle": "2022-07-01T06:07:59.527520Z",
     "shell.execute_reply": "2022-07-01T06:07:59.526700Z"
    },
    "papermill": {
     "duration": 0.201446,
     "end_time": "2022-07-01T06:07:59.529541",
     "exception": false,
     "start_time": "2022-07-01T06:07:59.328095",
     "status": "completed"
    },
    "tags": []
   },
   "outputs": [
    {
     "data": {
      "image/png": "[encoded data removed]",
      "text/plain": [
       "<Figure size 432x288 with 1 Axes>"
      ]
     },
     "metadata": {
      "needs_background": "light"
     },
     "output_type": "display_data"
    }
   ],
   "source": [
    "sns.countplot(x=df.Exited, hue=df.HasCrCard);"
   ]
  },
  {
   "cell_type": "markdown",
   "id": "521cb37b",
   "metadata": {
    "papermill": {
     "duration": 0.025871,
     "end_time": "2022-07-01T06:07:59.581732",
     "exception": false,
     "start_time": "2022-07-01T06:07:59.555861",
     "status": "completed"
    },
    "tags": []
   },
   "source": [
    "Most of the customers who leave the bank have a credit card"
   ]
  },
  {
   "cell_type": "code",
   "execution_count": 23,
   "id": "dfc3202a",
   "metadata": {
    "execution": {
     "iopub.execute_input": "2022-07-01T06:07:59.636421Z",
     "iopub.status.busy": "2022-07-01T06:07:59.635404Z",
     "iopub.status.idle": "2022-07-01T06:07:59.648528Z",
     "shell.execute_reply": "2022-07-01T06:07:59.647597Z"
    },
    "papermill": {
     "duration": 0.042518,
     "end_time": "2022-07-01T06:07:59.650738",
     "exception": false,
     "start_time": "2022-07-01T06:07:59.608220",
     "status": "completed"
    },
    "tags": []
   },
   "outputs": [
    {
     "data": {
      "text/plain": [
       "count      2037.000000\n",
       "mean      91108.539337\n",
       "std       58360.794816\n",
       "min           0.000000\n",
       "25%       38340.020000\n",
       "50%      109349.290000\n",
       "75%      131433.330000\n",
       "max      250898.090000\n",
       "Name: Balance, dtype: float64"
      ]
     },
     "execution_count": 23,
     "metadata": {},
     "output_type": "execute_result"
    }
   ],
   "source": [
    "df[df.Exited ==1].Balance.describe()"
   ]
  },
  {
   "cell_type": "code",
   "execution_count": 24,
   "id": "7512f771",
   "metadata": {
    "execution": {
     "iopub.execute_input": "2022-07-01T06:07:59.705439Z",
     "iopub.status.busy": "2022-07-01T06:07:59.704704Z",
     "iopub.status.idle": "2022-07-01T06:07:59.716711Z",
     "shell.execute_reply": "2022-07-01T06:07:59.715725Z"
    },
    "papermill": {
     "duration": 0.041818,
     "end_time": "2022-07-01T06:07:59.718840",
     "exception": false,
     "start_time": "2022-07-01T06:07:59.677022",
     "status": "completed"
    },
    "tags": []
   },
   "outputs": [
    {
     "data": {
      "text/plain": [
       "count      7963.000000\n",
       "mean      72745.296779\n",
       "std       62848.040701\n",
       "min           0.000000\n",
       "25%           0.000000\n",
       "50%       92072.680000\n",
       "75%      126410.280000\n",
       "max      221532.800000\n",
       "Name: Balance, dtype: float64"
      ]
     },
     "execution_count": 24,
     "metadata": {},
     "output_type": "execute_result"
    }
   ],
   "source": [
    "df[df.Exited ==0].Balance.describe()"
   ]
  },
  {
   "cell_type": "code",
   "execution_count": 25,
   "id": "070fd010",
   "metadata": {
    "execution": {
     "iopub.execute_input": "2022-07-01T06:07:59.775086Z",
     "iopub.status.busy": "2022-07-01T06:07:59.774351Z",
     "iopub.status.idle": "2022-07-01T06:07:59.899019Z",
     "shell.execute_reply": "2022-07-01T06:07:59.898251Z"
    },
    "papermill": {
     "duration": 0.155236,
     "end_time": "2022-07-01T06:07:59.901311",
     "exception": false,
     "start_time": "2022-07-01T06:07:59.746075",
     "status": "completed"
    },
    "tags": []
   },
   "outputs": [
    {
     "data": {
      "text/plain": [
       "<AxesSubplot:xlabel='Exited', ylabel='Balance'>"
      ]
     },
     "execution_count": 25,
     "metadata": {},
     "output_type": "execute_result"
    },
    {
     "data": {
      "image/png": "[encoded data removed]",
      "text/plain": [
       "<Figure size 432x288 with 1 Axes>"
      ]
     },
     "metadata": {
      "needs_background": "light"
     },
     "output_type": "display_data"
    }
   ],
   "source": [
    "sns.boxplot(x=df.Exited,y=df.Balance)"
   ]
  },
  {
   "cell_type": "markdown",
   "id": "e4790d11",
   "metadata": {
    "papermill": {
     "duration": 0.02716,
     "end_time": "2022-07-01T06:07:59.956153",
     "exception": false,
     "start_time": "2022-07-01T06:07:59.928993",
     "status": "completed"
    },
    "tags": []
   },
   "source": [
    "it seems that customers with higher balance are more probable to leave the bank"
   ]
  },
  {
   "cell_type": "code",
   "execution_count": 26,
   "id": "838de81d",
   "metadata": {
    "execution": {
     "iopub.execute_input": "2022-07-01T06:08:00.012470Z",
     "iopub.status.busy": "2022-07-01T06:08:00.011787Z",
     "iopub.status.idle": "2022-07-01T06:08:00.022927Z",
     "shell.execute_reply": "2022-07-01T06:08:00.021708Z"
    },
    "papermill": {
     "duration": 0.041896,
     "end_time": "2022-07-01T06:08:00.025088",
     "exception": false,
     "start_time": "2022-07-01T06:07:59.983192",
     "status": "completed"
    },
    "scrolled": true,
    "tags": []
   },
   "outputs": [
    {
     "data": {
      "text/plain": [
       "93736.48374164812"
      ]
     },
     "execution_count": 26,
     "metadata": {},
     "output_type": "execute_result"
    }
   ],
   "source": [
    "df.loc[(df.Exited ==1) & (df.Gender=='Male')].Balance.mean()"
   ]
  },
  {
   "cell_type": "code",
   "execution_count": 27,
   "id": "6bf3b091",
   "metadata": {
    "execution": {
     "iopub.execute_input": "2022-07-01T06:08:00.081648Z",
     "iopub.status.busy": "2022-07-01T06:08:00.080937Z",
     "iopub.status.idle": "2022-07-01T06:08:00.090484Z",
     "shell.execute_reply": "2022-07-01T06:08:00.089738Z"
    },
    "papermill": {
     "duration": 0.040129,
     "end_time": "2022-07-01T06:08:00.092409",
     "exception": false,
     "start_time": "2022-07-01T06:08:00.052280",
     "status": "completed"
    },
    "tags": []
   },
   "outputs": [
    {
     "data": {
      "text/plain": [
       "89036.63935908691"
      ]
     },
     "execution_count": 27,
     "metadata": {},
     "output_type": "execute_result"
    }
   ],
   "source": [
    "df.loc[(df.Exited ==1) & (df.Gender=='Female')].Balance.mean()"
   ]
  },
  {
   "cell_type": "markdown",
   "id": "f760cb69",
   "metadata": {
    "papermill": {
     "duration": 0.026934,
     "end_time": "2022-07-01T06:08:00.146458",
     "exception": false,
     "start_time": "2022-07-01T06:08:00.119524",
     "status": "completed"
    },
    "tags": []
   },
   "source": [
    "The balance of Males customers who leave the bank is higher than that of females customers but the difference is not large"
   ]
  },
  {
   "cell_type": "code",
   "execution_count": 28,
   "id": "f8e0c5e8",
   "metadata": {
    "execution": {
     "iopub.execute_input": "2022-07-01T06:08:00.202897Z",
     "iopub.status.busy": "2022-07-01T06:08:00.202228Z",
     "iopub.status.idle": "2022-07-01T06:08:00.731563Z",
     "shell.execute_reply": "2022-07-01T06:08:00.730429Z"
    },
    "papermill": {
     "duration": 0.560281,
     "end_time": "2022-07-01T06:08:00.733850",
     "exception": false,
     "start_time": "2022-07-01T06:08:00.173569",
     "status": "completed"
    },
    "tags": []
   },
   "outputs": [
    {
     "data": {
      "image/png": "[encoded data removed]",
      "text/plain": [
       "<Figure size 720x360 with 1 Axes>"
      ]
     },
     "metadata": {
      "needs_background": "light"
     },
     "output_type": "display_data"
    }
   ],
   "source": [
    "fig= plt.figure(figsize=(10,5))\n",
    "sns.histplot(x=\"Age\",hue=\"Exited\",data=df);\n"
   ]
  },
  {
   "cell_type": "markdown",
   "id": "b07e5afa",
   "metadata": {
    "papermill": {
     "duration": 0.027924,
     "end_time": "2022-07-01T06:08:00.790924",
     "exception": false,
     "start_time": "2022-07-01T06:08:00.763000",
     "status": "completed"
    },
    "tags": []
   },
   "source": [
    "Most of the customers who leave the bank are between 40 and 50 years"
   ]
  },
  {
   "cell_type": "code",
   "execution_count": 29,
   "id": "6d915376",
   "metadata": {
    "execution": {
     "iopub.execute_input": "2022-07-01T06:08:00.847921Z",
     "iopub.status.busy": "2022-07-01T06:08:00.847185Z",
     "iopub.status.idle": "2022-07-01T06:08:01.534227Z",
     "shell.execute_reply": "2022-07-01T06:08:01.533058Z"
    },
    "papermill": {
     "duration": 0.718816,
     "end_time": "2022-07-01T06:08:01.537250",
     "exception": false,
     "start_time": "2022-07-01T06:08:00.818434",
     "status": "completed"
    },
    "tags": []
   },
   "outputs": [
    {
     "data": {
      "text/plain": [
       "<AxesSubplot:>"
      ]
     },
     "execution_count": 29,
     "metadata": {},
     "output_type": "execute_result"
    },
    {
     "data": {
      "image/png": "[encoded data removed]",
      "text/plain": [
       "<Figure size 1080x576 with 2 Axes>"
      ]
     },
     "metadata": {
      "needs_background": "light"
     },
     "output_type": "display_data"
    }
   ],
   "source": [
    "plt.figure(figsize=(15,8))\n",
    "sns.set_context('paper',font_scale=1.4)\n",
    "\n",
    "crash_matrix=df.corr()\n",
    "#annot will show the numbers inside each colored box\n",
    "sns.heatmap(crash_matrix,annot=True,cmap='Blues')"
   ]
  },
  {
   "cell_type": "markdown",
   "id": "149cb266",
   "metadata": {
    "papermill": {
     "duration": 0.029383,
     "end_time": "2022-07-01T06:08:01.596245",
     "exception": false,
     "start_time": "2022-07-01T06:08:01.566862",
     "status": "completed"
    },
    "tags": []
   },
   "source": [
    "There is no considerable correlation between the attributes"
   ]
  },
  {
   "cell_type": "code",
   "execution_count": 30,
   "id": "22a7cf96",
   "metadata": {
    "execution": {
     "iopub.execute_input": "2022-07-01T06:08:01.657511Z",
     "iopub.status.busy": "2022-07-01T06:08:01.656824Z",
     "iopub.status.idle": "2022-07-01T06:08:01.850878Z",
     "shell.execute_reply": "2022-07-01T06:08:01.849957Z"
    },
    "papermill": {
     "duration": 0.227461,
     "end_time": "2022-07-01T06:08:01.853336",
     "exception": false,
     "start_time": "2022-07-01T06:08:01.625875",
     "status": "completed"
    },
    "tags": []
   },
   "outputs": [
    {
     "data": {
      "text/plain": [
       "<AxesSubplot:xlabel='Gender', ylabel='count'>"
      ]
     },
     "execution_count": 30,
     "metadata": {},
     "output_type": "execute_result"
    },
    {
     "data": {
      "image/png": "[encoded data removed]",
      "text/plain": [
       "<Figure size 432x288 with 1 Axes>"
      ]
     },
     "metadata": {
      "needs_background": "light"
     },
     "output_type": "display_data"
    }
   ],
   "source": [
    "sns.countplot(x=\"Gender\",hue=\"Exited\",data=df,palette=\"autumn\")\n"
   ]
  },
  {
   "cell_type": "markdown",
   "id": "d86cb6f5",
   "metadata": {
    "papermill": {
     "duration": 0.029807,
     "end_time": "2022-07-01T06:08:01.912687",
     "exception": false,
     "start_time": "2022-07-01T06:08:01.882880",
     "status": "completed"
    },
    "tags": []
   },
   "source": [
    "Balance of the Exited people is higher than that of the others"
   ]
  },
  {
   "cell_type": "markdown",
   "id": "f0b4b708",
   "metadata": {
    "papermill": {
     "duration": 0.02932,
     "end_time": "2022-07-01T06:08:01.971494",
     "exception": false,
     "start_time": "2022-07-01T06:08:01.942174",
     "status": "completed"
    },
    "tags": []
   },
   "source": [
    "### Results"
   ]
  },
  {
   "cell_type": "markdown",
   "id": "b87ac9e4",
   "metadata": {
    "papermill": {
     "duration": 0.030154,
     "end_time": "2022-07-01T06:08:02.031336",
     "exception": false,
     "start_time": "2022-07-01T06:08:02.001182",
     "status": "completed"
    },
    "tags": []
   },
   "source": [
    "- Most of the customers didn't exit from the bank but there are more than 2000 customers exit the bank which is a large number\n",
    "\n",
    "- The churn rate of Females is higher than that of Males\n",
    "\n",
    "- Number of customers who leaves the bank in France and Germany are nearly equal and Spain is the least one\n",
    "\n",
    "- We can say that Customers who use more than 2 products from the bank are less probable to leave it\n",
    "\n",
    "- Most of the customers who leave the bank are inactive members\n",
    "\n",
    "- Most of the customers who leave the bank have a credit card\n",
    "\n",
    "- it seems that customers with higher balance are more probable to leave the bank\n",
    "\n",
    "- The balance of Males customers who leave the bank is higher than that of females customers but the difference is not large\n",
    "\n",
    "- Most of the customers ages who leave the bank are between 40 and 50 years\n",
    "\n",
    "- There is no considerable correlation between the attributes"
   ]
  },
  {
   "cell_type": "markdown",
   "id": "ca7e9307",
   "metadata": {
    "papermill": {
     "duration": 0.029443,
     "end_time": "2022-07-01T06:08:02.090614",
     "exception": false,
     "start_time": "2022-07-01T06:08:02.061171",
     "status": "completed"
    },
    "tags": []
   },
   "source": [
    "## Modeling"
   ]
  },
  {
   "cell_type": "markdown",
   "id": "fe204920",
   "metadata": {
    "papermill": {
     "duration": 0.029106,
     "end_time": "2022-07-01T06:08:02.149274",
     "exception": false,
     "start_time": "2022-07-01T06:08:02.120168",
     "status": "completed"
    },
    "tags": []
   },
   "source": [
    "Our Main aim is to predict if the customer will leave the bank or not"
   ]
  },
  {
   "cell_type": "markdown",
   "id": "d198e65c",
   "metadata": {
    "papermill": {
     "duration": 0.02925,
     "end_time": "2022-07-01T06:08:02.208026",
     "exception": false,
     "start_time": "2022-07-01T06:08:02.178776",
     "status": "completed"
    },
    "tags": []
   },
   "source": [
    "### Data Preprocessing"
   ]
  },
  {
   "cell_type": "code",
   "execution_count": 31,
   "id": "aea16f5f",
   "metadata": {
    "execution": {
     "iopub.execute_input": "2022-07-01T06:08:02.270222Z",
     "iopub.status.busy": "2022-07-01T06:08:02.269844Z",
     "iopub.status.idle": "2022-07-01T06:08:02.284382Z",
     "shell.execute_reply": "2022-07-01T06:08:02.283645Z"
    },
    "papermill": {
     "duration": 0.048919,
     "end_time": "2022-07-01T06:08:02.286577",
     "exception": false,
     "start_time": "2022-07-01T06:08:02.237658",
     "status": "completed"
    },
    "tags": []
   },
   "outputs": [
    {
     "data": {
      "text/html": [
       "<div>\n",
       "<style scoped>\n",
       "    .dataframe tbody tr th:only-of-type {\n",
       "        vertical-align: middle;\n",
       "    }\n",
       "\n",
       "    .dataframe tbody tr th {\n",
       "        vertical-align: top;\n",
       "    }\n",
       "\n",
       "    .dataframe thead th {\n",
       "        text-align: right;\n",
       "    }\n",
       "</style>\n",
       "<table border=\"1\" class=\"dataframe\">\n",
       "  <thead>\n",
       "    <tr style=\"text-align: right;\">\n",
       "      <th></th>\n",
       "      <th>CreditScore</th>\n",
       "      <th>Geography</th>\n",
       "      <th>Gender</th>\n",
       "      <th>Age</th>\n",
       "      <th>Tenure</th>\n",
       "      <th>Balance</th>\n",
       "      <th>NumOfProducts</th>\n",
       "      <th>HasCrCard</th>\n",
       "      <th>IsActiveMember</th>\n",
       "      <th>EstimatedSalary</th>\n",
       "      <th>Exited</th>\n",
       "    </tr>\n",
       "  </thead>\n",
       "  <tbody>\n",
       "    <tr>\n",
       "      <th>0</th>\n",
       "      <td>619</td>\n",
       "      <td>France</td>\n",
       "      <td>Female</td>\n",
       "      <td>42</td>\n",
       "      <td>2</td>\n",
       "      <td>0.00</td>\n",
       "      <td>1</td>\n",
       "      <td>1</td>\n",
       "      <td>1</td>\n",
       "      <td>101348.88</td>\n",
       "      <td>1</td>\n",
       "    </tr>\n",
       "    <tr>\n",
       "      <th>1</th>\n",
       "      <td>608</td>\n",
       "      <td>Spain</td>\n",
       "      <td>Female</td>\n",
       "      <td>41</td>\n",
       "      <td>1</td>\n",
       "      <td>83807.86</td>\n",
       "      <td>1</td>\n",
       "      <td>0</td>\n",
       "      <td>1</td>\n",
       "      <td>112542.58</td>\n",
       "      <td>0</td>\n",
       "    </tr>\n",
       "    <tr>\n",
       "      <th>2</th>\n",
       "      <td>502</td>\n",
       "      <td>France</td>\n",
       "      <td>Female</td>\n",
       "      <td>42</td>\n",
       "      <td>8</td>\n",
       "      <td>159660.80</td>\n",
       "      <td>3</td>\n",
       "      <td>1</td>\n",
       "      <td>0</td>\n",
       "      <td>113931.57</td>\n",
       "      <td>1</td>\n",
       "    </tr>\n",
       "    <tr>\n",
       "      <th>3</th>\n",
       "      <td>699</td>\n",
       "      <td>France</td>\n",
       "      <td>Female</td>\n",
       "      <td>39</td>\n",
       "      <td>1</td>\n",
       "      <td>0.00</td>\n",
       "      <td>2</td>\n",
       "      <td>0</td>\n",
       "      <td>0</td>\n",
       "      <td>93826.63</td>\n",
       "      <td>0</td>\n",
       "    </tr>\n",
       "    <tr>\n",
       "      <th>4</th>\n",
       "      <td>850</td>\n",
       "      <td>Spain</td>\n",
       "      <td>Female</td>\n",
       "      <td>43</td>\n",
       "      <td>2</td>\n",
       "      <td>125510.82</td>\n",
       "      <td>1</td>\n",
       "      <td>1</td>\n",
       "      <td>1</td>\n",
       "      <td>79084.10</td>\n",
       "      <td>0</td>\n",
       "    </tr>\n",
       "  </tbody>\n",
       "</table>\n",
       "</div>"
      ],
      "text/plain": [
       "   CreditScore Geography  Gender  Age  Tenure    Balance  NumOfProducts  \\\n",
       "0          619    France  Female   42       2       0.00              1   \n",
       "1          608     Spain  Female   41       1   83807.86              1   \n",
       "2          502    France  Female   42       8  159660.80              3   \n",
       "3          699    France  Female   39       1       0.00              2   \n",
       "4          850     Spain  Female   43       2  125510.82              1   \n",
       "\n",
       "   HasCrCard  IsActiveMember  EstimatedSalary  Exited  \n",
       "0          1               1        101348.88       1  \n",
       "1          0               1        112542.58       0  \n",
       "2          1               0        113931.57       1  \n",
       "3          0               0         93826.63       0  \n",
       "4          1               1         79084.10       0  "
      ]
     },
     "execution_count": 31,
     "metadata": {},
     "output_type": "execute_result"
    }
   ],
   "source": [
    "df.head()"
   ]
  },
  {
   "cell_type": "code",
   "execution_count": 32,
   "id": "ead759a3",
   "metadata": {
    "execution": {
     "iopub.execute_input": "2022-07-01T06:08:02.350120Z",
     "iopub.status.busy": "2022-07-01T06:08:02.349045Z",
     "iopub.status.idle": "2022-07-01T06:08:02.361336Z",
     "shell.execute_reply": "2022-07-01T06:08:02.360406Z"
    },
    "papermill": {
     "duration": 0.046908,
     "end_time": "2022-07-01T06:08:02.363946",
     "exception": false,
     "start_time": "2022-07-01T06:08:02.317038",
     "status": "completed"
    },
    "tags": []
   },
   "outputs": [],
   "source": [
    "X=df.iloc[:,:-1].values #All the rows except the last one\n",
    "y=df.iloc[:,-1].values #Existed column"
   ]
  },
  {
   "cell_type": "code",
   "execution_count": 33,
   "id": "0ac683ca",
   "metadata": {
    "execution": {
     "iopub.execute_input": "2022-07-01T06:08:02.426504Z",
     "iopub.status.busy": "2022-07-01T06:08:02.425367Z",
     "iopub.status.idle": "2022-07-01T06:08:02.431594Z",
     "shell.execute_reply": "2022-07-01T06:08:02.429833Z"
    },
    "papermill": {
     "duration": 0.040496,
     "end_time": "2022-07-01T06:08:02.434673",
     "exception": false,
     "start_time": "2022-07-01T06:08:02.394177",
     "status": "completed"
    },
    "tags": []
   },
   "outputs": [
    {
     "name": "stdout",
     "output_type": "stream",
     "text": [
      "[[619 'France' 'Female' ... 1 1 101348.88]\n",
      " [608 'Spain' 'Female' ... 0 1 112542.58]\n",
      " [502 'France' 'Female' ... 1 0 113931.57]\n",
      " ...\n",
      " [709 'France' 'Female' ... 0 1 42085.58]\n",
      " [772 'Germany' 'Male' ... 1 0 92888.52]\n",
      " [792 'France' 'Female' ... 1 0 38190.78]]\n"
     ]
    }
   ],
   "source": [
    "print(X)"
   ]
  },
  {
   "cell_type": "code",
   "execution_count": 34,
   "id": "12123b2f",
   "metadata": {
    "execution": {
     "iopub.execute_input": "2022-07-01T06:08:02.496436Z",
     "iopub.status.busy": "2022-07-01T06:08:02.495518Z",
     "iopub.status.idle": "2022-07-01T06:08:02.501806Z",
     "shell.execute_reply": "2022-07-01T06:08:02.500740Z"
    },
    "papermill": {
     "duration": 0.039156,
     "end_time": "2022-07-01T06:08:02.503907",
     "exception": false,
     "start_time": "2022-07-01T06:08:02.464751",
     "status": "completed"
    },
    "tags": []
   },
   "outputs": [
    {
     "name": "stdout",
     "output_type": "stream",
     "text": [
      "(10000, 10)\n"
     ]
    }
   ],
   "source": [
    "print(X.shape)"
   ]
  },
  {
   "cell_type": "markdown",
   "id": "9030d157",
   "metadata": {
    "papermill": {
     "duration": 0.029351,
     "end_time": "2022-07-01T06:08:02.562980",
     "exception": false,
     "start_time": "2022-07-01T06:08:02.533629",
     "status": "completed"
    },
    "tags": []
   },
   "source": [
    "**Encoding categorical values**\n",
    "- Geography\n",
    "- Gender"
   ]
  },
  {
   "cell_type": "markdown",
   "id": "47321244",
   "metadata": {
    "papermill": {
     "duration": 0.029382,
     "end_time": "2022-07-01T06:08:02.621995",
     "exception": false,
     "start_time": "2022-07-01T06:08:02.592613",
     "status": "completed"
    },
    "tags": []
   },
   "source": [
    "Gender column"
   ]
  },
  {
   "cell_type": "code",
   "execution_count": 35,
   "id": "a0cf4069",
   "metadata": {
    "execution": {
     "iopub.execute_input": "2022-07-01T06:08:02.684154Z",
     "iopub.status.busy": "2022-07-01T06:08:02.682894Z",
     "iopub.status.idle": "2022-07-01T06:08:02.692061Z",
     "shell.execute_reply": "2022-07-01T06:08:02.690849Z"
    },
    "papermill": {
     "duration": 0.042718,
     "end_time": "2022-07-01T06:08:02.694482",
     "exception": false,
     "start_time": "2022-07-01T06:08:02.651764",
     "status": "completed"
    },
    "tags": []
   },
   "outputs": [],
   "source": [
    "le=LabelEncoder()\n",
    "X[:,2]=le.fit_transform(X[:,2]) #all rows in Third column (Gender)"
   ]
  },
  {
   "cell_type": "code",
   "execution_count": 36,
   "id": "8f54be8f",
   "metadata": {
    "execution": {
     "iopub.execute_input": "2022-07-01T06:08:02.756783Z",
     "iopub.status.busy": "2022-07-01T06:08:02.756173Z",
     "iopub.status.idle": "2022-07-01T06:08:02.761681Z",
     "shell.execute_reply": "2022-07-01T06:08:02.760098Z"
    },
    "papermill": {
     "duration": 0.039563,
     "end_time": "2022-07-01T06:08:02.764403",
     "exception": false,
     "start_time": "2022-07-01T06:08:02.724840",
     "status": "completed"
    },
    "tags": []
   },
   "outputs": [
    {
     "name": "stdout",
     "output_type": "stream",
     "text": [
      "[[619 'France' 0 ... 1 1 101348.88]\n",
      " [608 'Spain' 0 ... 0 1 112542.58]\n",
      " [502 'France' 0 ... 1 0 113931.57]\n",
      " ...\n",
      " [709 'France' 0 ... 0 1 42085.58]\n",
      " [772 'Germany' 1 ... 1 0 92888.52]\n",
      " [792 'France' 0 ... 1 0 38190.78]]\n"
     ]
    }
   ],
   "source": [
    "print(X)"
   ]
  },
  {
   "cell_type": "markdown",
   "id": "53788a7f",
   "metadata": {
    "papermill": {
     "duration": 0.029375,
     "end_time": "2022-07-01T06:08:02.824132",
     "exception": false,
     "start_time": "2022-07-01T06:08:02.794757",
     "status": "completed"
    },
    "tags": []
   },
   "source": [
    "Geography column"
   ]
  },
  {
   "cell_type": "code",
   "execution_count": 37,
   "id": "d3b8d4f1",
   "metadata": {
    "execution": {
     "iopub.execute_input": "2022-07-01T06:08:02.886765Z",
     "iopub.status.busy": "2022-07-01T06:08:02.885917Z",
     "iopub.status.idle": "2022-07-01T06:08:02.907831Z",
     "shell.execute_reply": "2022-07-01T06:08:02.906750Z"
    },
    "papermill": {
     "duration": 0.056201,
     "end_time": "2022-07-01T06:08:02.910145",
     "exception": false,
     "start_time": "2022-07-01T06:08:02.853944",
     "status": "completed"
    },
    "tags": []
   },
   "outputs": [],
   "source": [
    "from sklearn.compose import ColumnTransformer\n",
    "from sklearn.preprocessing import OneHotEncoder\n",
    "ct = ColumnTransformer(transformers=[('encoder', OneHotEncoder(), [1])], remainder='passthrough')\n",
    "X = np.array(ct.fit_transform(X))"
   ]
  },
  {
   "cell_type": "code",
   "execution_count": 38,
   "id": "eaef86c1",
   "metadata": {
    "execution": {
     "iopub.execute_input": "2022-07-01T06:08:02.971872Z",
     "iopub.status.busy": "2022-07-01T06:08:02.971440Z",
     "iopub.status.idle": "2022-07-01T06:08:02.976560Z",
     "shell.execute_reply": "2022-07-01T06:08:02.975751Z"
    },
    "papermill": {
     "duration": 0.038897,
     "end_time": "2022-07-01T06:08:02.979285",
     "exception": false,
     "start_time": "2022-07-01T06:08:02.940388",
     "status": "completed"
    },
    "scrolled": true,
    "tags": []
   },
   "outputs": [
    {
     "name": "stdout",
     "output_type": "stream",
     "text": [
      "[[1.0 0.0 0.0 ... 1 1 101348.88]\n",
      " [0.0 0.0 1.0 ... 0 1 112542.58]\n",
      " [1.0 0.0 0.0 ... 1 0 113931.57]\n",
      " ...\n",
      " [1.0 0.0 0.0 ... 0 1 42085.58]\n",
      " [0.0 1.0 0.0 ... 1 0 92888.52]\n",
      " [1.0 0.0 0.0 ... 1 0 38190.78]]\n"
     ]
    }
   ],
   "source": [
    "print(X)"
   ]
  },
  {
   "cell_type": "code",
   "execution_count": 39,
   "id": "615a8bfa",
   "metadata": {
    "execution": {
     "iopub.execute_input": "2022-07-01T06:08:03.042326Z",
     "iopub.status.busy": "2022-07-01T06:08:03.041741Z",
     "iopub.status.idle": "2022-07-01T06:08:03.047003Z",
     "shell.execute_reply": "2022-07-01T06:08:03.046284Z"
    },
    "papermill": {
     "duration": 0.03854,
     "end_time": "2022-07-01T06:08:03.049037",
     "exception": false,
     "start_time": "2022-07-01T06:08:03.010497",
     "status": "completed"
    },
    "tags": []
   },
   "outputs": [
    {
     "data": {
      "text/plain": [
       "(10000, 12)"
      ]
     },
     "execution_count": 39,
     "metadata": {},
     "output_type": "execute_result"
    }
   ],
   "source": [
    "X.shape"
   ]
  },
  {
   "cell_type": "markdown",
   "id": "1d594717",
   "metadata": {
    "papermill": {
     "duration": 0.030161,
     "end_time": "2022-07-01T06:08:03.109356",
     "exception": false,
     "start_time": "2022-07-01T06:08:03.079195",
     "status": "completed"
    },
    "tags": []
   },
   "source": [
    "**Splitting the dataset into the Training set and Test set**"
   ]
  },
  {
   "cell_type": "code",
   "execution_count": 40,
   "id": "858c8246",
   "metadata": {
    "execution": {
     "iopub.execute_input": "2022-07-01T06:08:03.172395Z",
     "iopub.status.busy": "2022-07-01T06:08:03.171727Z",
     "iopub.status.idle": "2022-07-01T06:08:03.179905Z",
     "shell.execute_reply": "2022-07-01T06:08:03.178989Z"
    },
    "papermill": {
     "duration": 0.042281,
     "end_time": "2022-07-01T06:08:03.182303",
     "exception": false,
     "start_time": "2022-07-01T06:08:03.140022",
     "status": "completed"
    },
    "tags": []
   },
   "outputs": [],
   "source": [
    "#With random_state=0 , we get the same train and test sets across different executions.\n",
    "X_train, X_test, y_train, y_test =train_test_split(X,y,test_size=0.2, random_state=0)"
   ]
  },
  {
   "cell_type": "markdown",
   "id": "a96ea088",
   "metadata": {
    "papermill": {
     "duration": 0.030087,
     "end_time": "2022-07-01T06:08:03.242635",
     "exception": false,
     "start_time": "2022-07-01T06:08:03.212548",
     "status": "completed"
    },
    "tags": []
   },
   "source": [
    "**Feature Scaling**"
   ]
  },
  {
   "cell_type": "markdown",
   "id": "5cc5eb5d",
   "metadata": {
    "papermill": {
     "duration": 0.030226,
     "end_time": "2022-07-01T06:08:03.303931",
     "exception": false,
     "start_time": "2022-07-01T06:08:03.273705",
     "status": "completed"
    },
    "tags": []
   },
   "source": [
    "we will apply feature scaling to all features as it's an important step in deep learning"
   ]
  },
  {
   "cell_type": "code",
   "execution_count": 41,
   "id": "a62b9c9d",
   "metadata": {
    "execution": {
     "iopub.execute_input": "2022-07-01T06:08:03.365571Z",
     "iopub.status.busy": "2022-07-01T06:08:03.364848Z",
     "iopub.status.idle": "2022-07-01T06:08:03.393654Z",
     "shell.execute_reply": "2022-07-01T06:08:03.392647Z"
    },
    "papermill": {
     "duration": 0.062208,
     "end_time": "2022-07-01T06:08:03.395981",
     "exception": false,
     "start_time": "2022-07-01T06:08:03.333773",
     "status": "completed"
    },
    "tags": []
   },
   "outputs": [],
   "source": [
    "sc = StandardScaler() #makes the range of variable from +3 to -3\n",
    "X_train = sc.fit_transform(X_train)\n",
    "X_test = sc.transform(X_test)"
   ]
  },
  {
   "cell_type": "markdown",
   "id": "350be5a6",
   "metadata": {
    "papermill": {
     "duration": 0.02948,
     "end_time": "2022-07-01T06:08:03.455453",
     "exception": false,
     "start_time": "2022-07-01T06:08:03.425973",
     "status": "completed"
    },
    "tags": []
   },
   "source": [
    "### Building the ANN"
   ]
  },
  {
   "cell_type": "markdown",
   "id": "cc25b60e",
   "metadata": {
    "papermill": {
     "duration": 0.029932,
     "end_time": "2022-07-01T06:08:03.515324",
     "exception": false,
     "start_time": "2022-07-01T06:08:03.485392",
     "status": "completed"
    },
    "tags": []
   },
   "source": [
    "**intializing the ANN**\n",
    "\n",
    "This artificial neural network variable will be created as an object of a certain class, and that certain class is the sequential class which allows exactly to build an artificial neural network, but as a sequence of layers as opposed to a computational graph.\n",
    "\n",
    "Starting from the input layer and then successively we have the fully connected layers up to the final output layer."
   ]
  },
  {
   "cell_type": "code",
   "execution_count": 42,
   "id": "6239b0f1",
   "metadata": {
    "execution": {
     "iopub.execute_input": "2022-07-01T06:08:03.576952Z",
     "iopub.status.busy": "2022-07-01T06:08:03.576204Z",
     "iopub.status.idle": "2022-07-01T06:08:05.021958Z",
     "shell.execute_reply": "2022-07-01T06:08:05.021185Z"
    },
    "papermill": {
     "duration": 1.479353,
     "end_time": "2022-07-01T06:08:05.024472",
     "exception": false,
     "start_time": "2022-07-01T06:08:03.545119",
     "status": "completed"
    },
    "tags": []
   },
   "outputs": [
    {
     "name": "stderr",
     "output_type": "stream",
     "text": [
      "2022-07-01 06:08:04.999639: I tensorflow/core/common_runtime/process_util.cc:146] Creating new thread pool with default inter op setting: 2. Tune using inter_op_parallelism_threads for best performance.\n"
     ]
    }
   ],
   "source": [
    "ann =tf.keras.models.Sequential()"
   ]
  },
  {
   "cell_type": "markdown",
   "id": "c4b7e164",
   "metadata": {
    "papermill": {
     "duration": 0.029739,
     "end_time": "2022-07-01T06:08:05.085833",
     "exception": false,
     "start_time": "2022-07-01T06:08:05.056094",
     "status": "completed"
    },
    "tags": []
   },
   "source": [
    "**Adding the input layer and the first hidden layer**"
   ]
  },
  {
   "cell_type": "markdown",
   "id": "8415a20d",
   "metadata": {
    "papermill": {
     "duration": 0.029559,
     "end_time": "2022-07-01T06:08:05.145473",
     "exception": false,
     "start_time": "2022-07-01T06:08:05.115914",
     "status": "completed"
    },
    "tags": []
   },
   "source": [
    "What is a Dense Layer in Neural Network?\n",
    "\n",
    "The dense layer is a neural network layer that is connected deeply, which means each neuron in the dense layer receives input from all neurons of its previous layer. The dense layer is found to be the most commonly used layer in the models"
   ]
  },
  {
   "cell_type": "code",
   "execution_count": 43,
   "id": "782e2515",
   "metadata": {
    "execution": {
     "iopub.execute_input": "2022-07-01T06:08:05.207773Z",
     "iopub.status.busy": "2022-07-01T06:08:05.207006Z",
     "iopub.status.idle": "2022-07-01T06:08:05.216179Z",
     "shell.execute_reply": "2022-07-01T06:08:05.215452Z"
    },
    "papermill": {
     "duration": 0.042394,
     "end_time": "2022-07-01T06:08:05.218305",
     "exception": false,
     "start_time": "2022-07-01T06:08:05.175911",
     "status": "completed"
    },
    "tags": []
   },
   "outputs": [],
   "source": [
    "#add is one the methods of Sequential class\n",
    "#units is the number of neurons the hidden layer\n",
    "#activation function of hidden layer in ANN is Relu\n",
    "ann.add(tf.keras.layers.Dense(units=6,activation='relu'))"
   ]
  },
  {
   "cell_type": "markdown",
   "id": "cb9ba7bc",
   "metadata": {
    "papermill": {
     "duration": 0.029626,
     "end_time": "2022-07-01T06:08:05.277796",
     "exception": false,
     "start_time": "2022-07-01T06:08:05.248170",
     "status": "completed"
    },
    "tags": []
   },
   "source": [
    "**Adding the second hidden layer**"
   ]
  },
  {
   "cell_type": "code",
   "execution_count": 44,
   "id": "cb7a21f0",
   "metadata": {
    "execution": {
     "iopub.execute_input": "2022-07-01T06:08:05.340365Z",
     "iopub.status.busy": "2022-07-01T06:08:05.339670Z",
     "iopub.status.idle": "2022-07-01T06:08:05.345701Z",
     "shell.execute_reply": "2022-07-01T06:08:05.344588Z"
    },
    "papermill": {
     "duration": 0.039485,
     "end_time": "2022-07-01T06:08:05.347742",
     "exception": false,
     "start_time": "2022-07-01T06:08:05.308257",
     "status": "completed"
    },
    "tags": []
   },
   "outputs": [],
   "source": [
    "ann.add(tf.keras.layers.Dense(units=6,activation='relu'))"
   ]
  },
  {
   "cell_type": "markdown",
   "id": "72aa5ddd",
   "metadata": {
    "papermill": {
     "duration": 0.029452,
     "end_time": "2022-07-01T06:08:05.406999",
     "exception": false,
     "start_time": "2022-07-01T06:08:05.377547",
     "status": "completed"
    },
    "tags": []
   },
   "source": [
    "**Adding the output layer**"
   ]
  },
  {
   "cell_type": "code",
   "execution_count": 45,
   "id": "39a5fe83",
   "metadata": {
    "execution": {
     "iopub.execute_input": "2022-07-01T06:08:05.468840Z",
     "iopub.status.busy": "2022-07-01T06:08:05.467856Z",
     "iopub.status.idle": "2022-07-01T06:08:05.475531Z",
     "shell.execute_reply": "2022-07-01T06:08:05.474571Z"
    },
    "papermill": {
     "duration": 0.040798,
     "end_time": "2022-07-01T06:08:05.477684",
     "exception": false,
     "start_time": "2022-07-01T06:08:05.436886",
     "status": "completed"
    },
    "tags": []
   },
   "outputs": [],
   "source": [
    "#We need one neuron to get to the final prediction\n",
    "#sigmoid returns probabilities\n",
    "ann.add(tf.keras.layers.Dense(units=1,activation='sigmoid'))"
   ]
  },
  {
   "cell_type": "markdown",
   "id": "a08ec10a",
   "metadata": {
    "papermill": {
     "duration": 0.029899,
     "end_time": "2022-07-01T06:08:05.537619",
     "exception": false,
     "start_time": "2022-07-01T06:08:05.507720",
     "status": "completed"
    },
    "tags": []
   },
   "source": [
    "### Training the ANN"
   ]
  },
  {
   "cell_type": "markdown",
   "id": "3389bead",
   "metadata": {
    "papermill": {
     "duration": 0.02964,
     "end_time": "2022-07-01T06:08:05.597288",
     "exception": false,
     "start_time": "2022-07-01T06:08:05.567648",
     "status": "completed"
    },
    "tags": []
   },
   "source": [
    "**Compiling the ANN**"
   ]
  },
  {
   "cell_type": "markdown",
   "id": "99bd7ac3",
   "metadata": {
    "papermill": {
     "duration": 0.029611,
     "end_time": "2022-07-01T06:08:05.656871",
     "exception": false,
     "start_time": "2022-07-01T06:08:05.627260",
     "status": "completed"
    },
    "tags": []
   },
   "source": [
    "We have to enter three parameters:\n",
    "\n",
    "- The first one is the optimizer.\n",
    "\n",
    "- Then the second one is to choose the loss function.\n",
    "\n",
    "- And the third one is the metrics parameter because you can actually choose several metrics to evaluate your A and N at the same time\n",
    "But we will only choose one and we will choose the accuracy."
   ]
  },
  {
   "cell_type": "code",
   "execution_count": 46,
   "id": "1d100887",
   "metadata": {
    "execution": {
     "iopub.execute_input": "2022-07-01T06:08:05.720256Z",
     "iopub.status.busy": "2022-07-01T06:08:05.719671Z",
     "iopub.status.idle": "2022-07-01T06:08:05.741302Z",
     "shell.execute_reply": "2022-07-01T06:08:05.740345Z"
    },
    "papermill": {
     "duration": 0.056161,
     "end_time": "2022-07-01T06:08:05.743724",
     "exception": false,
     "start_time": "2022-07-01T06:08:05.687563",
     "status": "completed"
    },
    "tags": []
   },
   "outputs": [],
   "source": [
    "#Adam is a replacement optimization algorithm for stochastic gradient descent for training deep learning models.\n",
    "#so, we will update the weights using SGD\n",
    "ann.compile(optimizer='adam',loss='binary_crossentropy', metrics=['accuracy'])"
   ]
  },
  {
   "cell_type": "markdown",
   "id": "038e358e",
   "metadata": {
    "papermill": {
     "duration": 0.057335,
     "end_time": "2022-07-01T06:08:05.831666",
     "exception": false,
     "start_time": "2022-07-01T06:08:05.774331",
     "status": "completed"
    },
    "tags": []
   },
   "source": [
    "**Training the ANN on the training set**"
   ]
  },
  {
   "cell_type": "markdown",
   "id": "86684cf4",
   "metadata": {
    "papermill": {
     "duration": 0.030931,
     "end_time": "2022-07-01T06:08:05.892616",
     "exception": false,
     "start_time": "2022-07-01T06:08:05.861685",
     "status": "completed"
    },
    "tags": []
   },
   "source": [
    "- The batch size is a number of samples processed before the model is updated.\n",
    "\n",
    "- The number of epochs is the number of complete passes through the training dataset.\n",
    "\n",
    "- The size of a batch must be more than or equal to one and less than or equal to the number of samples in the training dataset."
   ]
  },
  {
   "cell_type": "code",
   "execution_count": 47,
   "id": "1aba38cb",
   "metadata": {
    "execution": {
     "iopub.execute_input": "2022-07-01T06:08:05.956576Z",
     "iopub.status.busy": "2022-07-01T06:08:05.955994Z",
     "iopub.status.idle": "2022-07-01T06:08:47.620126Z",
     "shell.execute_reply": "2022-07-01T06:08:47.618817Z"
    },
    "papermill": {
     "duration": 41.699443,
     "end_time": "2022-07-01T06:08:47.622888",
     "exception": false,
     "start_time": "2022-07-01T06:08:05.923445",
     "status": "completed"
    },
    "tags": []
   },
   "outputs": [
    {
     "name": "stderr",
     "output_type": "stream",
     "text": [
      "2022-07-01 06:08:06.039504: I tensorflow/compiler/mlir/mlir_graph_optimization_pass.cc:185] None of the MLIR Optimization Passes are enabled (registered 2)\n"
     ]
    },
    {
     "name": "stdout",
     "output_type": "stream",
     "text": [
      "Epoch 1/100\n",
      "250/250 [==============================] - 1s 1ms/step - loss: 0.5062 - accuracy: 0.7959\n",
      "Epoch 2/100\n",
      "250/250 [==============================] - 0s 1ms/step - loss: 0.4637 - accuracy: 0.7960\n",
      "Epoch 3/100\n",
      "250/250 [==============================] - 0s 1ms/step - loss: 0.4462 - accuracy: 0.7960\n",
      "Epoch 4/100\n",
      "250/250 [==============================] - 0s 1ms/step - loss: 0.4378 - accuracy: 0.7964\n",
      "Epoch 5/100\n",
      "250/250 [==============================] - 0s 1ms/step - loss: 0.4317 - accuracy: 0.7968\n",
      "Epoch 6/100\n",
      "250/250 [==============================] - 0s 1ms/step - loss: 0.4258 - accuracy: 0.7990\n",
      "Epoch 7/100\n",
      "250/250 [==============================] - 0s 1ms/step - loss: 0.4187 - accuracy: 0.8035\n",
      "Epoch 8/100\n",
      "250/250 [==============================] - 0s 1ms/step - loss: 0.4105 - accuracy: 0.8138\n",
      "Epoch 9/100\n",
      "250/250 [==============================] - 0s 1ms/step - loss: 0.4007 - accuracy: 0.8175\n",
      "Epoch 10/100\n",
      "250/250 [==============================] - 0s 1ms/step - loss: 0.3881 - accuracy: 0.8261\n",
      "Epoch 11/100\n",
      "250/250 [==============================] - 0s 1ms/step - loss: 0.3781 - accuracy: 0.8320\n",
      "Epoch 12/100\n",
      "250/250 [==============================] - 0s 1ms/step - loss: 0.3701 - accuracy: 0.8384\n",
      "Epoch 13/100\n",
      "250/250 [==============================] - 0s 1ms/step - loss: 0.3646 - accuracy: 0.8478\n",
      "Epoch 14/100\n",
      "250/250 [==============================] - 0s 1ms/step - loss: 0.3602 - accuracy: 0.8509\n",
      "Epoch 15/100\n",
      "250/250 [==============================] - 0s 1ms/step - loss: 0.3570 - accuracy: 0.8512\n",
      "Epoch 16/100\n",
      "250/250 [==============================] - 0s 1ms/step - loss: 0.3546 - accuracy: 0.8540\n",
      "Epoch 17/100\n",
      "250/250 [==============================] - 0s 1ms/step - loss: 0.3516 - accuracy: 0.8537\n",
      "Epoch 18/100\n",
      "250/250 [==============================] - 0s 1ms/step - loss: 0.3494 - accuracy: 0.8565\n",
      "Epoch 19/100\n",
      "250/250 [==============================] - 0s 1ms/step - loss: 0.3470 - accuracy: 0.8551\n",
      "Epoch 20/100\n",
      "250/250 [==============================] - 0s 1ms/step - loss: 0.3451 - accuracy: 0.8570\n",
      "Epoch 21/100\n",
      "250/250 [==============================] - 0s 1ms/step - loss: 0.3437 - accuracy: 0.8572\n",
      "Epoch 22/100\n",
      "250/250 [==============================] - 0s 1ms/step - loss: 0.3429 - accuracy: 0.8587\n",
      "Epoch 23/100\n",
      "250/250 [==============================] - 0s 1ms/step - loss: 0.3422 - accuracy: 0.8587\n",
      "Epoch 24/100\n",
      "250/250 [==============================] - 0s 1ms/step - loss: 0.3417 - accuracy: 0.8589\n",
      "Epoch 25/100\n",
      "250/250 [==============================] - 0s 1ms/step - loss: 0.3409 - accuracy: 0.8593\n",
      "Epoch 26/100\n",
      "250/250 [==============================] - 0s 1ms/step - loss: 0.3401 - accuracy: 0.8600\n",
      "Epoch 27/100\n",
      "250/250 [==============================] - 0s 1ms/step - loss: 0.3400 - accuracy: 0.8589\n",
      "Epoch 28/100\n",
      "250/250 [==============================] - 1s 2ms/step - loss: 0.3393 - accuracy: 0.8606\n",
      "Epoch 29/100\n",
      "250/250 [==============================] - 0s 2ms/step - loss: 0.3391 - accuracy: 0.8599\n",
      "Epoch 30/100\n",
      "250/250 [==============================] - 0s 2ms/step - loss: 0.3386 - accuracy: 0.8600\n",
      "Epoch 31/100\n",
      "250/250 [==============================] - 0s 2ms/step - loss: 0.3383 - accuracy: 0.8615\n",
      "Epoch 32/100\n",
      "250/250 [==============================] - 0s 1ms/step - loss: 0.3380 - accuracy: 0.8611\n",
      "Epoch 33/100\n",
      "250/250 [==============================] - 0s 1ms/step - loss: 0.3376 - accuracy: 0.8602\n",
      "Epoch 34/100\n",
      "250/250 [==============================] - 0s 1ms/step - loss: 0.3374 - accuracy: 0.8606\n",
      "Epoch 35/100\n",
      "250/250 [==============================] - 0s 1ms/step - loss: 0.3371 - accuracy: 0.8595\n",
      "Epoch 36/100\n",
      "250/250 [==============================] - 0s 1ms/step - loss: 0.3367 - accuracy: 0.8615\n",
      "Epoch 37/100\n",
      "250/250 [==============================] - 0s 1ms/step - loss: 0.3366 - accuracy: 0.8626\n",
      "Epoch 38/100\n",
      "250/250 [==============================] - 0s 1ms/step - loss: 0.3363 - accuracy: 0.8635\n",
      "Epoch 39/100\n",
      "250/250 [==============================] - 0s 1ms/step - loss: 0.3360 - accuracy: 0.8631\n",
      "Epoch 40/100\n",
      "250/250 [==============================] - 0s 1ms/step - loss: 0.3360 - accuracy: 0.8615\n",
      "Epoch 41/100\n",
      "250/250 [==============================] - 0s 1ms/step - loss: 0.3357 - accuracy: 0.8616\n",
      "Epoch 42/100\n",
      "250/250 [==============================] - 0s 1ms/step - loss: 0.3357 - accuracy: 0.8622\n",
      "Epoch 43/100\n",
      "250/250 [==============================] - 0s 1ms/step - loss: 0.3353 - accuracy: 0.8625\n",
      "Epoch 44/100\n",
      "250/250 [==============================] - 0s 1ms/step - loss: 0.3351 - accuracy: 0.8644\n",
      "Epoch 45/100\n",
      "250/250 [==============================] - 0s 1ms/step - loss: 0.3351 - accuracy: 0.8614\n",
      "Epoch 46/100\n",
      "250/250 [==============================] - 0s 1ms/step - loss: 0.3353 - accuracy: 0.8619\n",
      "Epoch 47/100\n",
      "250/250 [==============================] - 0s 1ms/step - loss: 0.3347 - accuracy: 0.8612\n",
      "Epoch 48/100\n",
      "250/250 [==============================] - 0s 1ms/step - loss: 0.3346 - accuracy: 0.8614\n",
      "Epoch 49/100\n",
      "250/250 [==============================] - 0s 1ms/step - loss: 0.3345 - accuracy: 0.8624\n",
      "Epoch 50/100\n",
      "250/250 [==============================] - 0s 1ms/step - loss: 0.3347 - accuracy: 0.8624\n",
      "Epoch 51/100\n",
      "250/250 [==============================] - 0s 1ms/step - loss: 0.3344 - accuracy: 0.8627\n",
      "Epoch 52/100\n",
      "250/250 [==============================] - 0s 1ms/step - loss: 0.3342 - accuracy: 0.8630\n",
      "Epoch 53/100\n",
      "250/250 [==============================] - 0s 1ms/step - loss: 0.3337 - accuracy: 0.8609\n",
      "Epoch 54/100\n",
      "250/250 [==============================] - 0s 1ms/step - loss: 0.3337 - accuracy: 0.8625\n",
      "Epoch 55/100\n",
      "250/250 [==============================] - 0s 1ms/step - loss: 0.3338 - accuracy: 0.8622\n",
      "Epoch 56/100\n",
      "250/250 [==============================] - 0s 1ms/step - loss: 0.3334 - accuracy: 0.8634\n",
      "Epoch 57/100\n",
      "250/250 [==============================] - 0s 1ms/step - loss: 0.3335 - accuracy: 0.8602\n",
      "Epoch 58/100\n",
      "250/250 [==============================] - 0s 1ms/step - loss: 0.3336 - accuracy: 0.8622\n",
      "Epoch 59/100\n",
      "250/250 [==============================] - 0s 1ms/step - loss: 0.3334 - accuracy: 0.8602\n",
      "Epoch 60/100\n",
      "250/250 [==============================] - 0s 1ms/step - loss: 0.3333 - accuracy: 0.8627\n",
      "Epoch 61/100\n",
      "250/250 [==============================] - 0s 1ms/step - loss: 0.3332 - accuracy: 0.8625\n",
      "Epoch 62/100\n",
      "250/250 [==============================] - 0s 1ms/step - loss: 0.3332 - accuracy: 0.8637\n",
      "Epoch 63/100\n",
      "250/250 [==============================] - 0s 1ms/step - loss: 0.3332 - accuracy: 0.8624\n",
      "Epoch 64/100\n",
      "250/250 [==============================] - 0s 2ms/step - loss: 0.3328 - accuracy: 0.8612\n",
      "Epoch 65/100\n",
      "250/250 [==============================] - 0s 1ms/step - loss: 0.3334 - accuracy: 0.8619\n",
      "Epoch 66/100\n",
      "250/250 [==============================] - 0s 1ms/step - loss: 0.3326 - accuracy: 0.8639\n",
      "Epoch 67/100\n",
      "250/250 [==============================] - 0s 1ms/step - loss: 0.3330 - accuracy: 0.8630\n",
      "Epoch 68/100\n",
      "250/250 [==============================] - 0s 1ms/step - loss: 0.3328 - accuracy: 0.8630\n",
      "Epoch 69/100\n",
      "250/250 [==============================] - 0s 1ms/step - loss: 0.3330 - accuracy: 0.8626\n",
      "Epoch 70/100\n",
      "250/250 [==============================] - 0s 1ms/step - loss: 0.3326 - accuracy: 0.8636\n",
      "Epoch 71/100\n",
      "250/250 [==============================] - 0s 1ms/step - loss: 0.3323 - accuracy: 0.8625\n",
      "Epoch 72/100\n",
      "250/250 [==============================] - 0s 1ms/step - loss: 0.3325 - accuracy: 0.8624\n",
      "Epoch 73/100\n",
      "250/250 [==============================] - 0s 1ms/step - loss: 0.3329 - accuracy: 0.8627\n",
      "Epoch 74/100\n",
      "250/250 [==============================] - 0s 1ms/step - loss: 0.3325 - accuracy: 0.8661\n",
      "Epoch 75/100\n",
      "250/250 [==============================] - 0s 1ms/step - loss: 0.3324 - accuracy: 0.8633\n",
      "Epoch 76/100\n",
      "250/250 [==============================] - 0s 1ms/step - loss: 0.3325 - accuracy: 0.8629\n",
      "Epoch 77/100\n",
      "250/250 [==============================] - 0s 1ms/step - loss: 0.3327 - accuracy: 0.8634\n",
      "Epoch 78/100\n",
      "250/250 [==============================] - 0s 1ms/step - loss: 0.3322 - accuracy: 0.8636\n",
      "Epoch 79/100\n",
      "250/250 [==============================] - 0s 1ms/step - loss: 0.3325 - accuracy: 0.8624\n",
      "Epoch 80/100\n",
      "250/250 [==============================] - 0s 1ms/step - loss: 0.3322 - accuracy: 0.8629\n",
      "Epoch 81/100\n",
      "250/250 [==============================] - 0s 1ms/step - loss: 0.3321 - accuracy: 0.8635\n",
      "Epoch 82/100\n",
      "250/250 [==============================] - 0s 1ms/step - loss: 0.3321 - accuracy: 0.8609\n",
      "Epoch 83/100\n",
      "250/250 [==============================] - 0s 1ms/step - loss: 0.3325 - accuracy: 0.8609\n",
      "Epoch 84/100\n",
      "250/250 [==============================] - 0s 1ms/step - loss: 0.3318 - accuracy: 0.8648\n",
      "Epoch 85/100\n",
      "250/250 [==============================] - 0s 1ms/step - loss: 0.3320 - accuracy: 0.8620\n",
      "Epoch 86/100\n",
      "250/250 [==============================] - 0s 1ms/step - loss: 0.3324 - accuracy: 0.8629\n",
      "Epoch 87/100\n",
      "250/250 [==============================] - 0s 1ms/step - loss: 0.3321 - accuracy: 0.8610\n",
      "Epoch 88/100\n",
      "250/250 [==============================] - 0s 1ms/step - loss: 0.3316 - accuracy: 0.8614\n",
      "Epoch 89/100\n",
      "250/250 [==============================] - 0s 1ms/step - loss: 0.3319 - accuracy: 0.8620\n",
      "Epoch 90/100\n",
      "250/250 [==============================] - 0s 1ms/step - loss: 0.3318 - accuracy: 0.8610\n",
      "Epoch 91/100\n",
      "250/250 [==============================] - 0s 1ms/step - loss: 0.3315 - accuracy: 0.8627\n",
      "Epoch 92/100\n",
      "250/250 [==============================] - 0s 1ms/step - loss: 0.3316 - accuracy: 0.8640\n",
      "Epoch 93/100\n",
      "250/250 [==============================] - 0s 1ms/step - loss: 0.3323 - accuracy: 0.8631\n",
      "Epoch 94/100\n",
      "250/250 [==============================] - 0s 1ms/step - loss: 0.3321 - accuracy: 0.8640\n",
      "Epoch 95/100\n",
      "250/250 [==============================] - 0s 1ms/step - loss: 0.3318 - accuracy: 0.8626\n",
      "Epoch 96/100\n",
      "250/250 [==============================] - 0s 1ms/step - loss: 0.3317 - accuracy: 0.8624\n",
      "Epoch 97/100\n",
      "250/250 [==============================] - 0s 2ms/step - loss: 0.3317 - accuracy: 0.8620\n",
      "Epoch 98/100\n",
      "250/250 [==============================] - 0s 1ms/step - loss: 0.3320 - accuracy: 0.8630\n",
      "Epoch 99/100\n",
      "250/250 [==============================] - 0s 1ms/step - loss: 0.3320 - accuracy: 0.8635\n",
      "Epoch 100/100\n",
      "250/250 [==============================] - 0s 1ms/step - loss: 0.3315 - accuracy: 0.8639\n"
     ]
    },
    {
     "data": {
      "text/plain": [
       "<keras.callbacks.History at 0x7f60082ded10>"
      ]
     },
     "execution_count": 47,
     "metadata": {},
     "output_type": "execute_result"
    }
   ],
   "source": [
    "ann.fit(X_train, y_train, batch_size=32, epochs=100)"
   ]
  },
  {
   "cell_type": "markdown",
   "id": "dcbd2b97",
   "metadata": {
    "papermill": {
     "duration": 0.087688,
     "end_time": "2022-07-01T06:08:47.797746",
     "exception": false,
     "start_time": "2022-07-01T06:08:47.710058",
     "status": "completed"
    },
    "tags": []
   },
   "source": [
    "**Predicting the method of a single observation**"
   ]
  },
  {
   "cell_type": "markdown",
   "id": "2ace2c2a",
   "metadata": {
    "papermill": {
     "duration": 0.110284,
     "end_time": "2022-07-01T06:08:47.997004",
     "exception": false,
     "start_time": "2022-07-01T06:08:47.886720",
     "status": "completed"
    },
    "tags": []
   },
   "source": [
    "Use our ANN model to predict if the customer with the following information will leave the bank: \n",
    "\n",
    "Geography: France\n",
    "\n",
    "Credit Score: 600\n",
    "\n",
    "Gender: Male\n",
    "\n",
    "Age: 40 years old\n",
    "\n",
    "Tenure: 3 years\n",
    "\n",
    "Balance: \\$ 60000\n",
    "\n",
    "Number of Products: 2\n",
    "\n",
    "Does this customer have a credit card ? Yes\n",
    "\n",
    "Is this customer an Active Member: Yes\n",
    "\n",
    "Estimated Salary: \\$ 50000\n",
    "\n",
    "So, should we say goodbye to that customer ?\n"
   ]
  },
  {
   "cell_type": "code",
   "execution_count": 48,
   "id": "466dbff1",
   "metadata": {
    "execution": {
     "iopub.execute_input": "2022-07-01T06:08:48.191717Z",
     "iopub.status.busy": "2022-07-01T06:08:48.191088Z",
     "iopub.status.idle": "2022-07-01T06:08:48.374632Z",
     "shell.execute_reply": "2022-07-01T06:08:48.372933Z"
    },
    "papermill": {
     "duration": 0.282892,
     "end_time": "2022-07-01T06:08:48.379057",
     "exception": false,
     "start_time": "2022-07-01T06:08:48.096165",
     "status": "completed"
    },
    "tags": []
   },
   "outputs": [
    {
     "name": "stdout",
     "output_type": "stream",
     "text": [
      "[[False]]\n"
     ]
    }
   ],
   "source": [
    "#Any input in predict method is a 2D array\n",
    "#predict method must be called with the same scaliing as the training\n",
    "#sigmoid returns a probability so, use 0.5 as a threshold\n",
    "print(ann.predict(sc.transform([[1,0,0,600,1,40,3,60000,2,1,1,50000]])) > 0.5)"
   ]
  },
  {
   "cell_type": "markdown",
   "id": "dfadab29",
   "metadata": {
    "papermill": {
     "duration": 0.090968,
     "end_time": "2022-07-01T06:08:48.558617",
     "exception": false,
     "start_time": "2022-07-01T06:08:48.467649",
     "status": "completed"
    },
    "tags": []
   },
   "source": [
    "The ANN model predicts that the customer will not leave the bank"
   ]
  },
  {
   "cell_type": "markdown",
   "id": "e6983b09",
   "metadata": {
    "papermill": {
     "duration": 0.089322,
     "end_time": "2022-07-01T06:08:48.737347",
     "exception": false,
     "start_time": "2022-07-01T06:08:48.648025",
     "status": "completed"
    },
    "tags": []
   },
   "source": [
    "### Predicting the Test set results"
   ]
  },
  {
   "cell_type": "code",
   "execution_count": 49,
   "id": "c8ea1b78",
   "metadata": {
    "execution": {
     "iopub.execute_input": "2022-07-01T06:08:48.918542Z",
     "iopub.status.busy": "2022-07-01T06:08:48.918124Z",
     "iopub.status.idle": "2022-07-01T06:08:49.031077Z",
     "shell.execute_reply": "2022-07-01T06:08:49.030020Z"
    },
    "papermill": {
     "duration": 0.205537,
     "end_time": "2022-07-01T06:08:49.033882",
     "exception": false,
     "start_time": "2022-07-01T06:08:48.828345",
     "status": "completed"
    },
    "tags": []
   },
   "outputs": [],
   "source": [
    "y_pred=ann.predict(X_test)\n",
    "y_pred = (y_pred >0.5)"
   ]
  },
  {
   "cell_type": "code",
   "execution_count": 50,
   "id": "42c7f529",
   "metadata": {
    "execution": {
     "iopub.execute_input": "2022-07-01T06:08:49.212645Z",
     "iopub.status.busy": "2022-07-01T06:08:49.211914Z",
     "iopub.status.idle": "2022-07-01T06:08:49.218487Z",
     "shell.execute_reply": "2022-07-01T06:08:49.217771Z"
    },
    "papermill": {
     "duration": 0.098215,
     "end_time": "2022-07-01T06:08:49.220368",
     "exception": false,
     "start_time": "2022-07-01T06:08:49.122153",
     "status": "completed"
    },
    "tags": []
   },
   "outputs": [
    {
     "data": {
      "text/plain": [
       "array([[False],\n",
       "       [False],\n",
       "       [False],\n",
       "       ...,\n",
       "       [False],\n",
       "       [False],\n",
       "       [False]])"
      ]
     },
     "execution_count": 50,
     "metadata": {},
     "output_type": "execute_result"
    }
   ],
   "source": [
    "y_pred.reshape(len(y_pred),1)"
   ]
  },
  {
   "cell_type": "code",
   "execution_count": 51,
   "id": "c5836186",
   "metadata": {
    "execution": {
     "iopub.execute_input": "2022-07-01T06:08:49.465428Z",
     "iopub.status.busy": "2022-07-01T06:08:49.464335Z",
     "iopub.status.idle": "2022-07-01T06:08:49.471148Z",
     "shell.execute_reply": "2022-07-01T06:08:49.470069Z"
    },
    "papermill": {
     "duration": 0.163982,
     "end_time": "2022-07-01T06:08:49.473464",
     "exception": false,
     "start_time": "2022-07-01T06:08:49.309482",
     "status": "completed"
    },
    "tags": []
   },
   "outputs": [
    {
     "data": {
      "text/plain": [
       "array([[0],\n",
       "       [1],\n",
       "       [0],\n",
       "       ...,\n",
       "       [0],\n",
       "       [0],\n",
       "       [0]])"
      ]
     },
     "execution_count": 51,
     "metadata": {},
     "output_type": "execute_result"
    }
   ],
   "source": [
    "y_test.reshape(len(y_test),1)"
   ]
  },
  {
   "cell_type": "code",
   "execution_count": 52,
   "id": "0bb35385",
   "metadata": {
    "execution": {
     "iopub.execute_input": "2022-07-01T06:08:49.652742Z",
     "iopub.status.busy": "2022-07-01T06:08:49.652359Z",
     "iopub.status.idle": "2022-07-01T06:08:49.658709Z",
     "shell.execute_reply": "2022-07-01T06:08:49.657579Z"
    },
    "papermill": {
     "duration": 0.098144,
     "end_time": "2022-07-01T06:08:49.661429",
     "exception": false,
     "start_time": "2022-07-01T06:08:49.563285",
     "status": "completed"
    },
    "tags": []
   },
   "outputs": [
    {
     "name": "stdout",
     "output_type": "stream",
     "text": [
      "[[0 0]\n",
      " [0 1]\n",
      " [0 0]\n",
      " ...\n",
      " [0 0]\n",
      " [0 0]\n",
      " [0 0]]\n"
     ]
    }
   ],
   "source": [
    "print(np.concatenate((y_pred.reshape(len(y_pred),1), y_test.reshape(len(y_test),1)),1))"
   ]
  },
  {
   "cell_type": "markdown",
   "id": "daddeb4c",
   "metadata": {
    "papermill": {
     "duration": 0.088459,
     "end_time": "2022-07-01T06:08:49.837790",
     "exception": false,
     "start_time": "2022-07-01T06:08:49.749331",
     "status": "completed"
    },
    "tags": []
   },
   "source": [
    "### Making the Confusion Matrix"
   ]
  },
  {
   "cell_type": "code",
   "execution_count": 53,
   "id": "ea2edf50",
   "metadata": {
    "execution": {
     "iopub.execute_input": "2022-07-01T06:08:50.017133Z",
     "iopub.status.busy": "2022-07-01T06:08:50.016752Z",
     "iopub.status.idle": "2022-07-01T06:08:50.027736Z",
     "shell.execute_reply": "2022-07-01T06:08:50.026723Z"
    },
    "papermill": {
     "duration": 0.102828,
     "end_time": "2022-07-01T06:08:50.030050",
     "exception": false,
     "start_time": "2022-07-01T06:08:49.927222",
     "status": "completed"
    },
    "tags": []
   },
   "outputs": [
    {
     "name": "stdout",
     "output_type": "stream",
     "text": [
      "[[1505   90]\n",
      " [ 189  216]]\n"
     ]
    },
    {
     "data": {
      "text/plain": [
       "0.8605"
      ]
     },
     "execution_count": 53,
     "metadata": {},
     "output_type": "execute_result"
    }
   ],
   "source": [
    "cm = confusion_matrix(y_test, y_pred)\n",
    "print(cm)\n",
    "accuracy_score(y_test, y_pred)"
   ]
  }
 ],
 "metadata": {
  "kernelspec": {
   "display_name": "Python 3",
   "language": "python",
   "name": "python3"
  },
  "language_info": {
   "codemirror_mode": {
    "name": "ipython",
    "version": 3
   },
   "file_extension": ".py",
   "mimetype": "text/x-python",
   "name": "python",
   "nbconvert_exporter": "python",
   "pygments_lexer": "ipython3",
   "version": "3.7.12"
  },
  "papermill": {
   "default_parameters": {},
   "duration": 77.722415,
   "end_time": "2022-07-01T06:08:53.309765",
   "environment_variables": {},
   "exception": null,
   "input_path": "__notebook__.ipynb",
   "output_path": "__notebook__.ipynb",
   "parameters": {},
   "start_time": "2022-07-01T06:07:35.587350",
   "version": "2.3.4"
  }
 },
 "nbformat": 4,
 "nbformat_minor": 5
}
